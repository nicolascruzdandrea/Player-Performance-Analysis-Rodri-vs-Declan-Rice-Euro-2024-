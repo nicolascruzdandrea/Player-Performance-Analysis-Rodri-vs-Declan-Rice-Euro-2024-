{
 "cells": [
  {
   "cell_type": "code",
   "execution_count": 1,
   "id": "6e755588-3686-468d-b0a2-fc3e6e42d55f",
   "metadata": {},
   "outputs": [
    {
     "name": "stdout",
     "output_type": "stream",
     "text": [
      "Requirement already satisfied: statsbombpy in c:\\users\\nicol\\anaconda3\\lib\\site-packages (1.16.0)\n",
      "Requirement already satisfied: pandas in c:\\users\\nicol\\anaconda3\\lib\\site-packages (from statsbombpy) (2.2.2)\n",
      "Requirement already satisfied: requests in c:\\users\\nicol\\anaconda3\\lib\\site-packages (from statsbombpy) (2.32.3)\n",
      "Requirement already satisfied: requests-cache in c:\\users\\nicol\\anaconda3\\lib\\site-packages (from statsbombpy) (1.2.1)\n",
      "Requirement already satisfied: inflect in c:\\users\\nicol\\anaconda3\\lib\\site-packages (from statsbombpy) (7.5.0)\n",
      "Requirement already satisfied: joblib in c:\\users\\nicol\\anaconda3\\lib\\site-packages (from statsbombpy) (1.4.2)\n",
      "Requirement already satisfied: more_itertools>=8.5.0 in c:\\users\\nicol\\anaconda3\\lib\\site-packages (from inflect->statsbombpy) (10.3.0)\n",
      "Requirement already satisfied: typeguard>=4.0.1 in c:\\users\\nicol\\anaconda3\\lib\\site-packages (from inflect->statsbombpy) (4.4.4)\n",
      "Requirement already satisfied: numpy>=1.26.0 in c:\\users\\nicol\\anaconda3\\lib\\site-packages (from pandas->statsbombpy) (1.26.4)\n",
      "Requirement already satisfied: python-dateutil>=2.8.2 in c:\\users\\nicol\\anaconda3\\lib\\site-packages (from pandas->statsbombpy) (2.9.0.post0)\n",
      "Requirement already satisfied: pytz>=2020.1 in c:\\users\\nicol\\anaconda3\\lib\\site-packages (from pandas->statsbombpy) (2024.1)\n",
      "Requirement already satisfied: tzdata>=2022.7 in c:\\users\\nicol\\anaconda3\\lib\\site-packages (from pandas->statsbombpy) (2023.3)\n",
      "Requirement already satisfied: charset-normalizer<4,>=2 in c:\\users\\nicol\\anaconda3\\lib\\site-packages (from requests->statsbombpy) (3.3.2)\n",
      "Requirement already satisfied: idna<4,>=2.5 in c:\\users\\nicol\\anaconda3\\lib\\site-packages (from requests->statsbombpy) (3.7)\n",
      "Requirement already satisfied: urllib3<3,>=1.21.1 in c:\\users\\nicol\\anaconda3\\lib\\site-packages (from requests->statsbombpy) (2.4.0)\n",
      "Requirement already satisfied: certifi>=2017.4.17 in c:\\users\\nicol\\anaconda3\\lib\\site-packages (from requests->statsbombpy) (2025.4.26)\n",
      "Requirement already satisfied: attrs>=21.2 in c:\\users\\nicol\\anaconda3\\lib\\site-packages (from requests-cache->statsbombpy) (25.3.0)\n",
      "Requirement already satisfied: cattrs>=22.2 in c:\\users\\nicol\\anaconda3\\lib\\site-packages (from requests-cache->statsbombpy) (25.2.0)\n",
      "Requirement already satisfied: platformdirs>=2.5 in c:\\users\\nicol\\anaconda3\\lib\\site-packages (from requests-cache->statsbombpy) (3.10.0)\n",
      "Requirement already satisfied: url-normalize>=1.4 in c:\\users\\nicol\\anaconda3\\lib\\site-packages (from requests-cache->statsbombpy) (2.2.1)\n",
      "Requirement already satisfied: typing-extensions>=4.12.2 in c:\\users\\nicol\\anaconda3\\lib\\site-packages (from cattrs>=22.2->requests-cache->statsbombpy) (4.15.0)\n",
      "Requirement already satisfied: six>=1.5 in c:\\users\\nicol\\anaconda3\\lib\\site-packages (from python-dateutil>=2.8.2->pandas->statsbombpy) (1.16.0)\n"
     ]
    }
   ],
   "source": [
    "!pip install statsbombpy"
   ]
  },
  {
   "cell_type": "code",
   "execution_count": 3,
   "id": "0298b932-d991-4be4-832b-453ed47cda73",
   "metadata": {},
   "outputs": [],
   "source": [
    "import pandas as pd\n",
    "import numpy as np\n",
    "from statsbombpy import sb"
   ]
  },
  {
   "cell_type": "code",
   "execution_count": 5,
   "id": "8b0ff57e-0397-448f-9bf8-fafcf15e3e65",
   "metadata": {},
   "outputs": [
    {
     "name": "stderr",
     "output_type": "stream",
     "text": [
      "C:\\Users\\nicol\\anaconda3\\Lib\\site-packages\\statsbombpy\\api_client.py:21: NoAuthWarning: credentials were not supplied. open data access only\n",
      "  warnings.warn(\n"
     ]
    }
   ],
   "source": [
    "competitions_df = sb.competitions()"
   ]
  },
  {
   "cell_type": "code",
   "execution_count": 7,
   "id": "83a1de7b-8624-4c61-b456-72ca91fc3412",
   "metadata": {},
   "outputs": [
    {
     "data": {
      "text/plain": [
       "(75, 12)"
      ]
     },
     "execution_count": 7,
     "metadata": {},
     "output_type": "execute_result"
    }
   ],
   "source": [
    "competitions_df.shape"
   ]
  },
  {
   "cell_type": "code",
   "execution_count": 9,
   "id": "b4b9fbab-a36f-48f9-a348-fa68380db27a",
   "metadata": {},
   "outputs": [
    {
     "data": {
      "text/plain": [
       "array(['competition_id', 'season_id', 'country_name', 'competition_name',\n",
       "       'competition_gender', 'competition_youth',\n",
       "       'competition_international', 'season_name', 'match_updated',\n",
       "       'match_updated_360', 'match_available_360', 'match_available'],\n",
       "      dtype=object)"
      ]
     },
     "execution_count": 9,
     "metadata": {},
     "output_type": "execute_result"
    }
   ],
   "source": [
    "competitions_df.columns.values"
   ]
  },
  {
   "cell_type": "code",
   "execution_count": 11,
   "id": "b9e21718-943f-4c3c-b911-f04be53ac2c6",
   "metadata": {},
   "outputs": [
    {
     "data": {
      "text/html": [
       "<div>\n",
       "<style scoped>\n",
       "    .dataframe tbody tr th:only-of-type {\n",
       "        vertical-align: middle;\n",
       "    }\n",
       "\n",
       "    .dataframe tbody tr th {\n",
       "        vertical-align: top;\n",
       "    }\n",
       "\n",
       "    .dataframe thead th {\n",
       "        text-align: right;\n",
       "    }\n",
       "</style>\n",
       "<table border=\"1\" class=\"dataframe\">\n",
       "  <thead>\n",
       "    <tr style=\"text-align: right;\">\n",
       "      <th></th>\n",
       "      <th>competition_id</th>\n",
       "      <th>season_id</th>\n",
       "      <th>country_name</th>\n",
       "      <th>competition_name</th>\n",
       "      <th>competition_gender</th>\n",
       "      <th>competition_youth</th>\n",
       "      <th>competition_international</th>\n",
       "      <th>season_name</th>\n",
       "      <th>match_updated</th>\n",
       "      <th>match_updated_360</th>\n",
       "      <th>match_available_360</th>\n",
       "      <th>match_available</th>\n",
       "    </tr>\n",
       "  </thead>\n",
       "  <tbody>\n",
       "    <tr>\n",
       "      <th>0</th>\n",
       "      <td>9</td>\n",
       "      <td>281</td>\n",
       "      <td>Germany</td>\n",
       "      <td>1. Bundesliga</td>\n",
       "      <td>male</td>\n",
       "      <td>False</td>\n",
       "      <td>False</td>\n",
       "      <td>2023/2024</td>\n",
       "      <td>2024-09-28T20:46:38.893391</td>\n",
       "      <td>2025-07-06T04:26:07.636270</td>\n",
       "      <td>2025-07-06T04:26:07.636270</td>\n",
       "      <td>2024-09-28T20:46:38.893391</td>\n",
       "    </tr>\n",
       "    <tr>\n",
       "      <th>1</th>\n",
       "      <td>9</td>\n",
       "      <td>27</td>\n",
       "      <td>Germany</td>\n",
       "      <td>1. Bundesliga</td>\n",
       "      <td>male</td>\n",
       "      <td>False</td>\n",
       "      <td>False</td>\n",
       "      <td>2015/2016</td>\n",
       "      <td>2024-05-19T11:11:14.192381</td>\n",
       "      <td>None</td>\n",
       "      <td>None</td>\n",
       "      <td>2024-05-19T11:11:14.192381</td>\n",
       "    </tr>\n",
       "    <tr>\n",
       "      <th>2</th>\n",
       "      <td>1267</td>\n",
       "      <td>107</td>\n",
       "      <td>Africa</td>\n",
       "      <td>African Cup of Nations</td>\n",
       "      <td>male</td>\n",
       "      <td>False</td>\n",
       "      <td>True</td>\n",
       "      <td>2023</td>\n",
       "      <td>2024-09-28T01:57:35.846538</td>\n",
       "      <td>None</td>\n",
       "      <td>None</td>\n",
       "      <td>2024-09-28T01:57:35.846538</td>\n",
       "    </tr>\n",
       "    <tr>\n",
       "      <th>3</th>\n",
       "      <td>16</td>\n",
       "      <td>4</td>\n",
       "      <td>Europe</td>\n",
       "      <td>Champions League</td>\n",
       "      <td>male</td>\n",
       "      <td>False</td>\n",
       "      <td>False</td>\n",
       "      <td>2018/2019</td>\n",
       "      <td>2025-05-08T15:10:50.835274</td>\n",
       "      <td>2021-06-13T16:17:31.694</td>\n",
       "      <td>None</td>\n",
       "      <td>2025-05-08T15:10:50.835274</td>\n",
       "    </tr>\n",
       "    <tr>\n",
       "      <th>4</th>\n",
       "      <td>16</td>\n",
       "      <td>1</td>\n",
       "      <td>Europe</td>\n",
       "      <td>Champions League</td>\n",
       "      <td>male</td>\n",
       "      <td>False</td>\n",
       "      <td>False</td>\n",
       "      <td>2017/2018</td>\n",
       "      <td>2024-02-13T02:35:28.134882</td>\n",
       "      <td>2021-06-13T16:17:31.694</td>\n",
       "      <td>None</td>\n",
       "      <td>2024-02-13T02:35:28.134882</td>\n",
       "    </tr>\n",
       "  </tbody>\n",
       "</table>\n",
       "</div>"
      ],
      "text/plain": [
       "   competition_id  season_id country_name        competition_name  \\\n",
       "0               9        281      Germany           1. Bundesliga   \n",
       "1               9         27      Germany           1. Bundesliga   \n",
       "2            1267        107       Africa  African Cup of Nations   \n",
       "3              16          4       Europe        Champions League   \n",
       "4              16          1       Europe        Champions League   \n",
       "\n",
       "  competition_gender  competition_youth  competition_international  \\\n",
       "0               male              False                      False   \n",
       "1               male              False                      False   \n",
       "2               male              False                       True   \n",
       "3               male              False                      False   \n",
       "4               male              False                      False   \n",
       "\n",
       "  season_name               match_updated           match_updated_360  \\\n",
       "0   2023/2024  2024-09-28T20:46:38.893391  2025-07-06T04:26:07.636270   \n",
       "1   2015/2016  2024-05-19T11:11:14.192381                        None   \n",
       "2        2023  2024-09-28T01:57:35.846538                        None   \n",
       "3   2018/2019  2025-05-08T15:10:50.835274     2021-06-13T16:17:31.694   \n",
       "4   2017/2018  2024-02-13T02:35:28.134882     2021-06-13T16:17:31.694   \n",
       "\n",
       "          match_available_360             match_available  \n",
       "0  2025-07-06T04:26:07.636270  2024-09-28T20:46:38.893391  \n",
       "1                        None  2024-05-19T11:11:14.192381  \n",
       "2                        None  2024-09-28T01:57:35.846538  \n",
       "3                        None  2025-05-08T15:10:50.835274  \n",
       "4                        None  2024-02-13T02:35:28.134882  "
      ]
     },
     "execution_count": 11,
     "metadata": {},
     "output_type": "execute_result"
    }
   ],
   "source": [
    "competitions_df.head()"
   ]
  },
  {
   "cell_type": "code",
   "execution_count": 13,
   "id": "2e369459-1131-4e42-ac98-a9cd1bee9347",
   "metadata": {},
   "outputs": [
    {
     "ename": "TypeError",
     "evalue": "matches() missing 2 required positional arguments: 'competition_id' and 'season_id'",
     "output_type": "error",
     "traceback": [
      "\u001b[1;31m---------------------------------------------------------------------------\u001b[0m",
      "\u001b[1;31mTypeError\u001b[0m                                 Traceback (most recent call last)",
      "Cell \u001b[1;32mIn[13], line 1\u001b[0m\n\u001b[1;32m----> 1\u001b[0m matches_df \u001b[38;5;241m=\u001b[39m sb\u001b[38;5;241m.\u001b[39mmatches()\n",
      "\u001b[1;31mTypeError\u001b[0m: matches() missing 2 required positional arguments: 'competition_id' and 'season_id'"
     ]
    }
   ],
   "source": [
    "matches_df = sb.matches()"
   ]
  },
  {
   "cell_type": "code",
   "execution_count": 15,
   "id": "223dd8bf-9794-461b-9461-81e94be04e24",
   "metadata": {},
   "outputs": [
    {
     "name": "stdout",
     "output_type": "stream",
     "text": [
      "    competition_id         competition_name  season_id season_name\n",
      "0                9            1. Bundesliga        281   2023/2024\n",
      "1                9            1. Bundesliga         27   2015/2016\n",
      "2             1267   African Cup of Nations        107        2023\n",
      "3               16         Champions League          4   2018/2019\n",
      "4               16         Champions League          1   2017/2018\n",
      "5               16         Champions League          2   2016/2017\n",
      "6               16         Champions League         27   2015/2016\n",
      "7               16         Champions League         26   2014/2015\n",
      "8               16         Champions League         25   2013/2014\n",
      "9               16         Champions League         24   2012/2013\n",
      "10              16         Champions League         23   2011/2012\n",
      "11              16         Champions League         22   2010/2011\n",
      "12              16         Champions League         21   2009/2010\n",
      "13              16         Champions League         41   2008/2009\n",
      "14              16         Champions League         39   2006/2007\n",
      "15              16         Champions League         37   2004/2005\n",
      "16              16         Champions League         44   2003/2004\n",
      "17              16         Champions League         76   1999/2000\n",
      "18              16         Champions League        277   1972/1973\n",
      "19              16         Champions League         71   1971/1972\n",
      "20              16         Champions League        276   1970/1971\n",
      "21             223             Copa America        282        2024\n",
      "22              87             Copa del Rey         84   1983/1984\n",
      "23              87             Copa del Rey        268   1982/1983\n",
      "24              87             Copa del Rey        279   1977/1978\n",
      "25              37  FA Women's Super League         90   2020/2021\n",
      "26              37  FA Women's Super League         42   2019/2020\n",
      "27              37  FA Women's Super League          4   2018/2019\n",
      "28            1470       FIFA U20 World Cup        274        1979\n",
      "29              43           FIFA World Cup        106        2022\n",
      "30              43           FIFA World Cup          3        2018\n",
      "31              43           FIFA World Cup         55        1990\n",
      "32              43           FIFA World Cup         54        1986\n",
      "33              43           FIFA World Cup         51        1974\n",
      "34              43           FIFA World Cup        272        1970\n",
      "35              43           FIFA World Cup        270        1962\n",
      "36              43           FIFA World Cup        269        1958\n",
      "37            1238      Indian Super league        108   2021/2022\n",
      "38              11                  La Liga         90   2020/2021\n",
      "39              11                  La Liga         42   2019/2020\n",
      "40              11                  La Liga          4   2018/2019\n",
      "41              11                  La Liga          1   2017/2018\n",
      "42              11                  La Liga          2   2016/2017\n",
      "43              11                  La Liga         27   2015/2016\n",
      "44              11                  La Liga         26   2014/2015\n",
      "45              11                  La Liga         25   2013/2014\n",
      "46              11                  La Liga         24   2012/2013\n",
      "47              11                  La Liga         23   2011/2012\n",
      "48              11                  La Liga         22   2010/2011\n",
      "49              11                  La Liga         21   2009/2010\n",
      "50              11                  La Liga         41   2008/2009\n",
      "51              11                  La Liga         40   2007/2008\n",
      "52              11                  La Liga         39   2006/2007\n",
      "53              11                  La Liga         38   2005/2006\n",
      "54              11                  La Liga         37   2004/2005\n",
      "55              11                  La Liga        278   1973/1974\n",
      "56              81         Liga Profesional         48   1997/1998\n",
      "57              81         Liga Profesional        275        1981\n",
      "58               7                  Ligue 1        235   2022/2023\n",
      "59               7                  Ligue 1        108   2021/2022\n",
      "60               7                  Ligue 1         27   2015/2016\n",
      "61              44      Major League Soccer        107        2023\n",
      "62             116    North American League         68        1977\n",
      "63              49                     NWSL          3        2018\n",
      "64               2           Premier League         27   2015/2016\n",
      "65               2           Premier League         44   2003/2004\n",
      "66              12                  Serie A         27   2015/2016\n",
      "67              12                  Serie A         86   1986/1987\n",
      "68              55                UEFA Euro        282        2024\n",
      "69              55                UEFA Euro         43        2020\n",
      "70              35       UEFA Europa League         75   1988/1989\n",
      "71              53        UEFA Women's Euro        315        2025\n",
      "72              53        UEFA Women's Euro        106        2022\n",
      "73              72        Women's World Cup        107        2023\n",
      "74              72        Women's World Cup         30        2019\n"
     ]
    }
   ],
   "source": [
    "print(competitions_df[['competition_id', 'competition_name', 'season_id', 'season_name']].to_string())"
   ]
  },
  {
   "cell_type": "code",
   "execution_count": 17,
   "id": "f7aa7ba1-4744-4aeb-a47d-d9bbeb3295bb",
   "metadata": {},
   "outputs": [
    {
     "data": {
      "text/html": [
       "<div>\n",
       "<style scoped>\n",
       "    .dataframe tbody tr th:only-of-type {\n",
       "        vertical-align: middle;\n",
       "    }\n",
       "\n",
       "    .dataframe tbody tr th {\n",
       "        vertical-align: top;\n",
       "    }\n",
       "\n",
       "    .dataframe thead th {\n",
       "        text-align: right;\n",
       "    }\n",
       "</style>\n",
       "<table border=\"1\" class=\"dataframe\">\n",
       "  <thead>\n",
       "    <tr style=\"text-align: right;\">\n",
       "      <th></th>\n",
       "      <th>competition_id</th>\n",
       "      <th>competition_name</th>\n",
       "    </tr>\n",
       "  </thead>\n",
       "  <tbody>\n",
       "    <tr>\n",
       "      <th>0</th>\n",
       "      <td>2</td>\n",
       "      <td>Premier League</td>\n",
       "    </tr>\n",
       "    <tr>\n",
       "      <th>1</th>\n",
       "      <td>7</td>\n",
       "      <td>Ligue 1</td>\n",
       "    </tr>\n",
       "    <tr>\n",
       "      <th>2</th>\n",
       "      <td>9</td>\n",
       "      <td>1. Bundesliga</td>\n",
       "    </tr>\n",
       "    <tr>\n",
       "      <th>3</th>\n",
       "      <td>11</td>\n",
       "      <td>La Liga</td>\n",
       "    </tr>\n",
       "    <tr>\n",
       "      <th>4</th>\n",
       "      <td>12</td>\n",
       "      <td>Serie A</td>\n",
       "    </tr>\n",
       "    <tr>\n",
       "      <th>5</th>\n",
       "      <td>16</td>\n",
       "      <td>Champions League</td>\n",
       "    </tr>\n",
       "    <tr>\n",
       "      <th>6</th>\n",
       "      <td>35</td>\n",
       "      <td>UEFA Europa League</td>\n",
       "    </tr>\n",
       "    <tr>\n",
       "      <th>7</th>\n",
       "      <td>37</td>\n",
       "      <td>FA Women's Super League</td>\n",
       "    </tr>\n",
       "    <tr>\n",
       "      <th>8</th>\n",
       "      <td>43</td>\n",
       "      <td>FIFA World Cup</td>\n",
       "    </tr>\n",
       "    <tr>\n",
       "      <th>9</th>\n",
       "      <td>44</td>\n",
       "      <td>Major League Soccer</td>\n",
       "    </tr>\n",
       "    <tr>\n",
       "      <th>10</th>\n",
       "      <td>49</td>\n",
       "      <td>NWSL</td>\n",
       "    </tr>\n",
       "    <tr>\n",
       "      <th>11</th>\n",
       "      <td>53</td>\n",
       "      <td>UEFA Women's Euro</td>\n",
       "    </tr>\n",
       "    <tr>\n",
       "      <th>12</th>\n",
       "      <td>55</td>\n",
       "      <td>UEFA Euro</td>\n",
       "    </tr>\n",
       "    <tr>\n",
       "      <th>13</th>\n",
       "      <td>72</td>\n",
       "      <td>Women's World Cup</td>\n",
       "    </tr>\n",
       "    <tr>\n",
       "      <th>14</th>\n",
       "      <td>81</td>\n",
       "      <td>Liga Profesional</td>\n",
       "    </tr>\n",
       "    <tr>\n",
       "      <th>15</th>\n",
       "      <td>87</td>\n",
       "      <td>Copa del Rey</td>\n",
       "    </tr>\n",
       "    <tr>\n",
       "      <th>16</th>\n",
       "      <td>116</td>\n",
       "      <td>North American League</td>\n",
       "    </tr>\n",
       "    <tr>\n",
       "      <th>17</th>\n",
       "      <td>223</td>\n",
       "      <td>Copa America</td>\n",
       "    </tr>\n",
       "    <tr>\n",
       "      <th>18</th>\n",
       "      <td>1238</td>\n",
       "      <td>Indian Super league</td>\n",
       "    </tr>\n",
       "    <tr>\n",
       "      <th>19</th>\n",
       "      <td>1267</td>\n",
       "      <td>African Cup of Nations</td>\n",
       "    </tr>\n",
       "    <tr>\n",
       "      <th>20</th>\n",
       "      <td>1470</td>\n",
       "      <td>FIFA U20 World Cup</td>\n",
       "    </tr>\n",
       "  </tbody>\n",
       "</table>\n",
       "</div>"
      ],
      "text/plain": [
       "    competition_id         competition_name\n",
       "0                2           Premier League\n",
       "1                7                  Ligue 1\n",
       "2                9            1. Bundesliga\n",
       "3               11                  La Liga\n",
       "4               12                  Serie A\n",
       "5               16         Champions League\n",
       "6               35       UEFA Europa League\n",
       "7               37  FA Women's Super League\n",
       "8               43           FIFA World Cup\n",
       "9               44      Major League Soccer\n",
       "10              49                     NWSL\n",
       "11              53        UEFA Women's Euro\n",
       "12              55                UEFA Euro\n",
       "13              72        Women's World Cup\n",
       "14              81         Liga Profesional\n",
       "15              87             Copa del Rey\n",
       "16             116    North American League\n",
       "17             223             Copa America\n",
       "18            1238      Indian Super league\n",
       "19            1267   African Cup of Nations\n",
       "20            1470       FIFA U20 World Cup"
      ]
     },
     "execution_count": 17,
     "metadata": {},
     "output_type": "execute_result"
    }
   ],
   "source": [
    "competitions_df.groupby('competition_id')['competition_name'].first().reset_index()"
   ]
  },
  {
   "cell_type": "code",
   "execution_count": 19,
   "id": "261ae67d-d059-4d46-b036-b285a5f8738a",
   "metadata": {},
   "outputs": [
    {
     "data": {
      "text/plain": [
       "competition_id                0\n",
       "season_id                     0\n",
       "country_name                  0\n",
       "competition_name              0\n",
       "competition_gender            0\n",
       "competition_youth             0\n",
       "competition_international     0\n",
       "season_name                   0\n",
       "match_updated                 0\n",
       "match_updated_360            18\n",
       "match_available_360          64\n",
       "match_available               0\n",
       "dtype: int64"
      ]
     },
     "execution_count": 19,
     "metadata": {},
     "output_type": "execute_result"
    }
   ],
   "source": [
    "competitions_df.isnull().sum()"
   ]
  },
  {
   "cell_type": "code",
   "execution_count": 21,
   "id": "ca2d26c8-bcc5-49e4-b818-8807d82a23b6",
   "metadata": {},
   "outputs": [
    {
     "data": {
      "text/html": [
       "<div>\n",
       "<style scoped>\n",
       "    .dataframe tbody tr th:only-of-type {\n",
       "        vertical-align: middle;\n",
       "    }\n",
       "\n",
       "    .dataframe tbody tr th {\n",
       "        vertical-align: top;\n",
       "    }\n",
       "\n",
       "    .dataframe thead th {\n",
       "        text-align: right;\n",
       "    }\n",
       "</style>\n",
       "<table border=\"1\" class=\"dataframe\">\n",
       "  <thead>\n",
       "    <tr style=\"text-align: right;\">\n",
       "      <th></th>\n",
       "      <th>competition_id</th>\n",
       "      <th>competition_name</th>\n",
       "      <th>match_available_360</th>\n",
       "    </tr>\n",
       "  </thead>\n",
       "  <tbody>\n",
       "    <tr>\n",
       "      <th>0</th>\n",
       "      <td>2</td>\n",
       "      <td>Premier League</td>\n",
       "      <td>2</td>\n",
       "    </tr>\n",
       "    <tr>\n",
       "      <th>1</th>\n",
       "      <td>7</td>\n",
       "      <td>Ligue 1</td>\n",
       "      <td>1</td>\n",
       "    </tr>\n",
       "    <tr>\n",
       "      <th>2</th>\n",
       "      <td>9</td>\n",
       "      <td>1. Bundesliga</td>\n",
       "      <td>1</td>\n",
       "    </tr>\n",
       "    <tr>\n",
       "      <th>3</th>\n",
       "      <td>11</td>\n",
       "      <td>La Liga</td>\n",
       "      <td>17</td>\n",
       "    </tr>\n",
       "    <tr>\n",
       "      <th>4</th>\n",
       "      <td>12</td>\n",
       "      <td>Serie A</td>\n",
       "      <td>2</td>\n",
       "    </tr>\n",
       "    <tr>\n",
       "      <th>5</th>\n",
       "      <td>16</td>\n",
       "      <td>Champions League</td>\n",
       "      <td>18</td>\n",
       "    </tr>\n",
       "    <tr>\n",
       "      <th>6</th>\n",
       "      <td>35</td>\n",
       "      <td>UEFA Europa League</td>\n",
       "      <td>1</td>\n",
       "    </tr>\n",
       "    <tr>\n",
       "      <th>7</th>\n",
       "      <td>37</td>\n",
       "      <td>FA Women's Super League</td>\n",
       "      <td>3</td>\n",
       "    </tr>\n",
       "    <tr>\n",
       "      <th>8</th>\n",
       "      <td>43</td>\n",
       "      <td>FIFA World Cup</td>\n",
       "      <td>7</td>\n",
       "    </tr>\n",
       "    <tr>\n",
       "      <th>9</th>\n",
       "      <td>44</td>\n",
       "      <td>Major League Soccer</td>\n",
       "      <td>0</td>\n",
       "    </tr>\n",
       "    <tr>\n",
       "      <th>10</th>\n",
       "      <td>49</td>\n",
       "      <td>NWSL</td>\n",
       "      <td>1</td>\n",
       "    </tr>\n",
       "    <tr>\n",
       "      <th>11</th>\n",
       "      <td>53</td>\n",
       "      <td>UEFA Women's Euro</td>\n",
       "      <td>0</td>\n",
       "    </tr>\n",
       "    <tr>\n",
       "      <th>12</th>\n",
       "      <td>55</td>\n",
       "      <td>UEFA Euro</td>\n",
       "      <td>0</td>\n",
       "    </tr>\n",
       "    <tr>\n",
       "      <th>13</th>\n",
       "      <td>72</td>\n",
       "      <td>Women's World Cup</td>\n",
       "      <td>1</td>\n",
       "    </tr>\n",
       "    <tr>\n",
       "      <th>14</th>\n",
       "      <td>81</td>\n",
       "      <td>Liga Profesional</td>\n",
       "      <td>2</td>\n",
       "    </tr>\n",
       "    <tr>\n",
       "      <th>15</th>\n",
       "      <td>87</td>\n",
       "      <td>Copa del Rey</td>\n",
       "      <td>3</td>\n",
       "    </tr>\n",
       "    <tr>\n",
       "      <th>16</th>\n",
       "      <td>116</td>\n",
       "      <td>North American League</td>\n",
       "      <td>1</td>\n",
       "    </tr>\n",
       "    <tr>\n",
       "      <th>17</th>\n",
       "      <td>223</td>\n",
       "      <td>Copa America</td>\n",
       "      <td>1</td>\n",
       "    </tr>\n",
       "    <tr>\n",
       "      <th>18</th>\n",
       "      <td>1238</td>\n",
       "      <td>Indian Super league</td>\n",
       "      <td>1</td>\n",
       "    </tr>\n",
       "    <tr>\n",
       "      <th>19</th>\n",
       "      <td>1267</td>\n",
       "      <td>African Cup of Nations</td>\n",
       "      <td>1</td>\n",
       "    </tr>\n",
       "    <tr>\n",
       "      <th>20</th>\n",
       "      <td>1470</td>\n",
       "      <td>FIFA U20 World Cup</td>\n",
       "      <td>1</td>\n",
       "    </tr>\n",
       "  </tbody>\n",
       "</table>\n",
       "</div>"
      ],
      "text/plain": [
       "    competition_id         competition_name  match_available_360\n",
       "0                2           Premier League                    2\n",
       "1                7                  Ligue 1                    1\n",
       "2                9            1. Bundesliga                    1\n",
       "3               11                  La Liga                   17\n",
       "4               12                  Serie A                    2\n",
       "5               16         Champions League                   18\n",
       "6               35       UEFA Europa League                    1\n",
       "7               37  FA Women's Super League                    3\n",
       "8               43           FIFA World Cup                    7\n",
       "9               44      Major League Soccer                    0\n",
       "10              49                     NWSL                    1\n",
       "11              53        UEFA Women's Euro                    0\n",
       "12              55                UEFA Euro                    0\n",
       "13              72        Women's World Cup                    1\n",
       "14              81         Liga Profesional                    2\n",
       "15              87             Copa del Rey                    3\n",
       "16             116    North American League                    1\n",
       "17             223             Copa America                    1\n",
       "18            1238      Indian Super league                    1\n",
       "19            1267   African Cup of Nations                    1\n",
       "20            1470       FIFA U20 World Cup                    1"
      ]
     },
     "execution_count": 21,
     "metadata": {},
     "output_type": "execute_result"
    }
   ],
   "source": [
    "competitions_df.groupby(['competition_id', 'competition_name'])['match_available_360'].apply(lambda x: x.isnull().sum()).reset_index()"
   ]
  },
  {
   "cell_type": "code",
   "execution_count": 23,
   "id": "699402eb-d6d2-4c5a-964b-28b818b3af43",
   "metadata": {},
   "outputs": [
    {
     "data": {
      "text/html": [
       "<div>\n",
       "<style scoped>\n",
       "    .dataframe tbody tr th:only-of-type {\n",
       "        vertical-align: middle;\n",
       "    }\n",
       "\n",
       "    .dataframe tbody tr th {\n",
       "        vertical-align: top;\n",
       "    }\n",
       "\n",
       "    .dataframe thead th {\n",
       "        text-align: right;\n",
       "    }\n",
       "</style>\n",
       "<table border=\"1\" class=\"dataframe\">\n",
       "  <thead>\n",
       "    <tr style=\"text-align: right;\">\n",
       "      <th></th>\n",
       "      <th>season_id</th>\n",
       "      <th>season_name</th>\n",
       "    </tr>\n",
       "  </thead>\n",
       "  <tbody>\n",
       "    <tr>\n",
       "      <th>68</th>\n",
       "      <td>282</td>\n",
       "      <td>2024</td>\n",
       "    </tr>\n",
       "    <tr>\n",
       "      <th>69</th>\n",
       "      <td>43</td>\n",
       "      <td>2020</td>\n",
       "    </tr>\n",
       "  </tbody>\n",
       "</table>\n",
       "</div>"
      ],
      "text/plain": [
       "    season_id season_name\n",
       "68        282        2024\n",
       "69         43        2020"
      ]
     },
     "execution_count": 23,
     "metadata": {},
     "output_type": "execute_result"
    }
   ],
   "source": [
    "competitions_df.loc[competitions_df['competition_id'] == 55,\n",
    "                    ['season_id', 'season_name']].drop_duplicates()"
   ]
  },
  {
   "cell_type": "markdown",
   "id": "17d5d4fe-a7e0-4d6b-b6db-4d149a4c4f89",
   "metadata": {},
   "source": [
    "# I'm choosing Euro 2024 since it has no null data.\n",
    "\n",
    "# I'm going to perform an analysis and comparison between the playing styles of Rodri Hernández and Declan Rice."
   ]
  },
  {
   "cell_type": "code",
   "execution_count": 26,
   "id": "a4041cb9-7807-4459-8615-f18cbe0ae565",
   "metadata": {},
   "outputs": [
    {
     "name": "stderr",
     "output_type": "stream",
     "text": [
      "C:\\Users\\nicol\\anaconda3\\Lib\\site-packages\\statsbombpy\\api_client.py:21: NoAuthWarning: credentials were not supplied. open data access only\n",
      "  warnings.warn(\n"
     ]
    }
   ],
   "source": [
    "matches_df = sb.matches(competition_id=55, season_id=282)"
   ]
  },
  {
   "cell_type": "code",
   "execution_count": 28,
   "id": "5567ccde-2001-4c4f-8b89-f15582e505c1",
   "metadata": {},
   "outputs": [
    {
     "data": {
      "text/plain": [
       "(51, 22)"
      ]
     },
     "execution_count": 28,
     "metadata": {},
     "output_type": "execute_result"
    }
   ],
   "source": [
    "matches_df.shape"
   ]
  },
  {
   "cell_type": "code",
   "execution_count": 30,
   "id": "8f7294c5-350e-4b87-b453-7fddf6b4e32c",
   "metadata": {},
   "outputs": [
    {
     "data": {
      "text/plain": [
       "array(['match_id', 'match_date', 'kick_off', 'competition', 'season',\n",
       "       'home_team', 'away_team', 'home_score', 'away_score',\n",
       "       'match_status', 'match_status_360', 'last_updated',\n",
       "       'last_updated_360', 'match_week', 'competition_stage', 'stadium',\n",
       "       'referee', 'home_managers', 'away_managers', 'data_version',\n",
       "       'shot_fidelity_version', 'xy_fidelity_version'], dtype=object)"
      ]
     },
     "execution_count": 30,
     "metadata": {},
     "output_type": "execute_result"
    }
   ],
   "source": [
    "matches_df.columns.values"
   ]
  },
  {
   "cell_type": "code",
   "execution_count": 32,
   "id": "ac59a0ce-a8f6-4e5e-84f2-dedabdcfed04",
   "metadata": {},
   "outputs": [
    {
     "data": {
      "text/html": [
       "<div>\n",
       "<style scoped>\n",
       "    .dataframe tbody tr th:only-of-type {\n",
       "        vertical-align: middle;\n",
       "    }\n",
       "\n",
       "    .dataframe tbody tr th {\n",
       "        vertical-align: top;\n",
       "    }\n",
       "\n",
       "    .dataframe thead th {\n",
       "        text-align: right;\n",
       "    }\n",
       "</style>\n",
       "<table border=\"1\" class=\"dataframe\">\n",
       "  <thead>\n",
       "    <tr style=\"text-align: right;\">\n",
       "      <th></th>\n",
       "      <th>match_id</th>\n",
       "      <th>match_date</th>\n",
       "      <th>kick_off</th>\n",
       "      <th>competition</th>\n",
       "      <th>season</th>\n",
       "      <th>home_team</th>\n",
       "      <th>away_team</th>\n",
       "      <th>home_score</th>\n",
       "      <th>away_score</th>\n",
       "      <th>match_status</th>\n",
       "      <th>...</th>\n",
       "      <th>last_updated_360</th>\n",
       "      <th>match_week</th>\n",
       "      <th>competition_stage</th>\n",
       "      <th>stadium</th>\n",
       "      <th>referee</th>\n",
       "      <th>home_managers</th>\n",
       "      <th>away_managers</th>\n",
       "      <th>data_version</th>\n",
       "      <th>shot_fidelity_version</th>\n",
       "      <th>xy_fidelity_version</th>\n",
       "    </tr>\n",
       "  </thead>\n",
       "  <tbody>\n",
       "    <tr>\n",
       "      <th>0</th>\n",
       "      <td>3942819</td>\n",
       "      <td>2024-07-10</td>\n",
       "      <td>22:00:00.000</td>\n",
       "      <td>Europe - UEFA Euro</td>\n",
       "      <td>2024</td>\n",
       "      <td>Netherlands</td>\n",
       "      <td>England</td>\n",
       "      <td>1</td>\n",
       "      <td>2</td>\n",
       "      <td>available</td>\n",
       "      <td>...</td>\n",
       "      <td>2024-07-15T07:57:36.684453</td>\n",
       "      <td>6</td>\n",
       "      <td>Semi-finals</td>\n",
       "      <td>Signal-Iduna-Park</td>\n",
       "      <td>Felix Zwayer</td>\n",
       "      <td>Ronald Koeman</td>\n",
       "      <td>Gareth Southgate</td>\n",
       "      <td>1.1.0</td>\n",
       "      <td>2</td>\n",
       "      <td>2</td>\n",
       "    </tr>\n",
       "    <tr>\n",
       "      <th>1</th>\n",
       "      <td>3943043</td>\n",
       "      <td>2024-07-14</td>\n",
       "      <td>22:00:00.000</td>\n",
       "      <td>Europe - UEFA Euro</td>\n",
       "      <td>2024</td>\n",
       "      <td>Spain</td>\n",
       "      <td>England</td>\n",
       "      <td>2</td>\n",
       "      <td>1</td>\n",
       "      <td>available</td>\n",
       "      <td>...</td>\n",
       "      <td>2024-07-15T15:52:24.778809</td>\n",
       "      <td>7</td>\n",
       "      <td>Final</td>\n",
       "      <td>Olympiastadion Berlin</td>\n",
       "      <td>François Letexier</td>\n",
       "      <td>Luis de la Fuente Castillo</td>\n",
       "      <td>Gareth Southgate</td>\n",
       "      <td>1.1.0</td>\n",
       "      <td>2</td>\n",
       "      <td>2</td>\n",
       "    </tr>\n",
       "    <tr>\n",
       "      <th>2</th>\n",
       "      <td>3942752</td>\n",
       "      <td>2024-07-09</td>\n",
       "      <td>22:00:00.000</td>\n",
       "      <td>Europe - UEFA Euro</td>\n",
       "      <td>2024</td>\n",
       "      <td>Spain</td>\n",
       "      <td>France</td>\n",
       "      <td>2</td>\n",
       "      <td>1</td>\n",
       "      <td>available</td>\n",
       "      <td>...</td>\n",
       "      <td>2024-07-10T13:01:26.597509</td>\n",
       "      <td>6</td>\n",
       "      <td>Semi-finals</td>\n",
       "      <td>Allianz Arena</td>\n",
       "      <td>Slavko Vinčić</td>\n",
       "      <td>Luis de la Fuente Castillo</td>\n",
       "      <td>Didier Deschamps</td>\n",
       "      <td>1.1.0</td>\n",
       "      <td>2</td>\n",
       "      <td>2</td>\n",
       "    </tr>\n",
       "    <tr>\n",
       "      <th>3</th>\n",
       "      <td>3942382</td>\n",
       "      <td>2024-07-06</td>\n",
       "      <td>22:00:00.000</td>\n",
       "      <td>Europe - UEFA Euro</td>\n",
       "      <td>2024</td>\n",
       "      <td>Netherlands</td>\n",
       "      <td>Turkey</td>\n",
       "      <td>2</td>\n",
       "      <td>1</td>\n",
       "      <td>available</td>\n",
       "      <td>...</td>\n",
       "      <td>2024-07-10T06:56:35.146850</td>\n",
       "      <td>5</td>\n",
       "      <td>Quarter-finals</td>\n",
       "      <td>Olympiastadion Berlin</td>\n",
       "      <td>Clément Turpin</td>\n",
       "      <td>Ronald Koeman</td>\n",
       "      <td>Vincenzo Montella</td>\n",
       "      <td>1.1.0</td>\n",
       "      <td>2</td>\n",
       "      <td>2</td>\n",
       "    </tr>\n",
       "    <tr>\n",
       "      <th>4</th>\n",
       "      <td>3942349</td>\n",
       "      <td>2024-07-05</td>\n",
       "      <td>22:00:00.000</td>\n",
       "      <td>Europe - UEFA Euro</td>\n",
       "      <td>2024</td>\n",
       "      <td>Portugal</td>\n",
       "      <td>France</td>\n",
       "      <td>0</td>\n",
       "      <td>0</td>\n",
       "      <td>available</td>\n",
       "      <td>...</td>\n",
       "      <td>2024-07-12T02:00:16.871522</td>\n",
       "      <td>5</td>\n",
       "      <td>Quarter-finals</td>\n",
       "      <td>Volksparkstadion</td>\n",
       "      <td>Michael Oliver</td>\n",
       "      <td>Roberto Martínez Montoliú</td>\n",
       "      <td>Didier Deschamps</td>\n",
       "      <td>1.1.0</td>\n",
       "      <td>2</td>\n",
       "      <td>2</td>\n",
       "    </tr>\n",
       "  </tbody>\n",
       "</table>\n",
       "<p>5 rows × 22 columns</p>\n",
       "</div>"
      ],
      "text/plain": [
       "   match_id  match_date      kick_off         competition season    home_team  \\\n",
       "0   3942819  2024-07-10  22:00:00.000  Europe - UEFA Euro   2024  Netherlands   \n",
       "1   3943043  2024-07-14  22:00:00.000  Europe - UEFA Euro   2024        Spain   \n",
       "2   3942752  2024-07-09  22:00:00.000  Europe - UEFA Euro   2024        Spain   \n",
       "3   3942382  2024-07-06  22:00:00.000  Europe - UEFA Euro   2024  Netherlands   \n",
       "4   3942349  2024-07-05  22:00:00.000  Europe - UEFA Euro   2024     Portugal   \n",
       "\n",
       "  away_team  home_score  away_score match_status  ...  \\\n",
       "0   England           1           2    available  ...   \n",
       "1   England           2           1    available  ...   \n",
       "2    France           2           1    available  ...   \n",
       "3    Turkey           2           1    available  ...   \n",
       "4    France           0           0    available  ...   \n",
       "\n",
       "             last_updated_360 match_week competition_stage  \\\n",
       "0  2024-07-15T07:57:36.684453          6       Semi-finals   \n",
       "1  2024-07-15T15:52:24.778809          7             Final   \n",
       "2  2024-07-10T13:01:26.597509          6       Semi-finals   \n",
       "3  2024-07-10T06:56:35.146850          5    Quarter-finals   \n",
       "4  2024-07-12T02:00:16.871522          5    Quarter-finals   \n",
       "\n",
       "                 stadium            referee               home_managers  \\\n",
       "0      Signal-Iduna-Park       Felix Zwayer               Ronald Koeman   \n",
       "1  Olympiastadion Berlin  François Letexier  Luis de la Fuente Castillo   \n",
       "2          Allianz Arena      Slavko Vinčić  Luis de la Fuente Castillo   \n",
       "3  Olympiastadion Berlin     Clément Turpin               Ronald Koeman   \n",
       "4       Volksparkstadion     Michael Oliver   Roberto Martínez Montoliú   \n",
       "\n",
       "       away_managers data_version shot_fidelity_version xy_fidelity_version  \n",
       "0   Gareth Southgate        1.1.0                     2                   2  \n",
       "1   Gareth Southgate        1.1.0                     2                   2  \n",
       "2   Didier Deschamps        1.1.0                     2                   2  \n",
       "3  Vincenzo Montella        1.1.0                     2                   2  \n",
       "4   Didier Deschamps        1.1.0                     2                   2  \n",
       "\n",
       "[5 rows x 22 columns]"
      ]
     },
     "execution_count": 32,
     "metadata": {},
     "output_type": "execute_result"
    }
   ],
   "source": [
    "matches_df.head()"
   ]
  },
  {
   "cell_type": "code",
   "execution_count": 34,
   "id": "18e2693e-0b3a-497a-89e6-7ead53642aed",
   "metadata": {},
   "outputs": [
    {
     "name": "stderr",
     "output_type": "stream",
     "text": [
      "C:\\Users\\nicol\\anaconda3\\Lib\\site-packages\\statsbombpy\\api_client.py:21: NoAuthWarning: credentials were not supplied. open data access only\n",
      "  warnings.warn(\n"
     ]
    },
    {
     "name": "stdout",
     "output_type": "stream",
     "text": [
      "Partido 1/51: 3942819 - 3485 eventos\n"
     ]
    },
    {
     "name": "stderr",
     "output_type": "stream",
     "text": [
      "C:\\Users\\nicol\\anaconda3\\Lib\\site-packages\\statsbombpy\\api_client.py:21: NoAuthWarning: credentials were not supplied. open data access only\n",
      "  warnings.warn(\n"
     ]
    },
    {
     "name": "stdout",
     "output_type": "stream",
     "text": [
      "Partido 2/51: 3943043 - 3312 eventos\n"
     ]
    },
    {
     "name": "stderr",
     "output_type": "stream",
     "text": [
      "C:\\Users\\nicol\\anaconda3\\Lib\\site-packages\\statsbombpy\\api_client.py:21: NoAuthWarning: credentials were not supplied. open data access only\n",
      "  warnings.warn(\n"
     ]
    },
    {
     "name": "stdout",
     "output_type": "stream",
     "text": [
      "Partido 3/51: 3942752 - 3328 eventos\n"
     ]
    },
    {
     "name": "stderr",
     "output_type": "stream",
     "text": [
      "C:\\Users\\nicol\\anaconda3\\Lib\\site-packages\\statsbombpy\\api_client.py:21: NoAuthWarning: credentials were not supplied. open data access only\n",
      "  warnings.warn(\n"
     ]
    },
    {
     "name": "stdout",
     "output_type": "stream",
     "text": [
      "Partido 4/51: 3942382 - 3415 eventos\n"
     ]
    },
    {
     "name": "stderr",
     "output_type": "stream",
     "text": [
      "C:\\Users\\nicol\\anaconda3\\Lib\\site-packages\\statsbombpy\\api_client.py:21: NoAuthWarning: credentials were not supplied. open data access only\n",
      "  warnings.warn(\n"
     ]
    },
    {
     "name": "stdout",
     "output_type": "stream",
     "text": [
      "Partido 5/51: 3942349 - 5190 eventos\n"
     ]
    },
    {
     "name": "stderr",
     "output_type": "stream",
     "text": [
      "C:\\Users\\nicol\\anaconda3\\Lib\\site-packages\\statsbombpy\\api_client.py:21: NoAuthWarning: credentials were not supplied. open data access only\n",
      "  warnings.warn(\n"
     ]
    },
    {
     "name": "stdout",
     "output_type": "stream",
     "text": [
      "Partido 6/51: 3930180 - 3198 eventos\n"
     ]
    },
    {
     "name": "stderr",
     "output_type": "stream",
     "text": [
      "C:\\Users\\nicol\\anaconda3\\Lib\\site-packages\\statsbombpy\\api_client.py:21: NoAuthWarning: credentials were not supplied. open data access only\n",
      "  warnings.warn(\n"
     ]
    },
    {
     "name": "stdout",
     "output_type": "stream",
     "text": [
      "Partido 7/51: 3930171 - 3881 eventos\n"
     ]
    },
    {
     "name": "stderr",
     "output_type": "stream",
     "text": [
      "C:\\Users\\nicol\\anaconda3\\Lib\\site-packages\\statsbombpy\\api_client.py:21: NoAuthWarning: credentials were not supplied. open data access only\n",
      "  warnings.warn(\n"
     ]
    },
    {
     "name": "stdout",
     "output_type": "stream",
     "text": [
      "Partido 8/51: 3942227 - 4882 eventos\n"
     ]
    },
    {
     "name": "stderr",
     "output_type": "stream",
     "text": [
      "C:\\Users\\nicol\\anaconda3\\Lib\\site-packages\\statsbombpy\\api_client.py:21: NoAuthWarning: credentials were not supplied. open data access only\n",
      "  warnings.warn(\n"
     ]
    },
    {
     "name": "stdout",
     "output_type": "stream",
     "text": [
      "Partido 9/51: 3942226 - 4463 eventos\n"
     ]
    },
    {
     "name": "stderr",
     "output_type": "stream",
     "text": [
      "C:\\Users\\nicol\\anaconda3\\Lib\\site-packages\\statsbombpy\\api_client.py:21: NoAuthWarning: credentials were not supplied. open data access only\n",
      "  warnings.warn(\n"
     ]
    },
    {
     "name": "stdout",
     "output_type": "stream",
     "text": [
      "Partido 10/51: 3938645 - 3525 eventos\n"
     ]
    },
    {
     "name": "stderr",
     "output_type": "stream",
     "text": [
      "C:\\Users\\nicol\\anaconda3\\Lib\\site-packages\\statsbombpy\\api_client.py:21: NoAuthWarning: credentials were not supplied. open data access only\n",
      "  warnings.warn(\n"
     ]
    },
    {
     "name": "stdout",
     "output_type": "stream",
     "text": [
      "Partido 11/51: 3930184 - 2953 eventos\n"
     ]
    },
    {
     "name": "stderr",
     "output_type": "stream",
     "text": [
      "C:\\Users\\nicol\\anaconda3\\Lib\\site-packages\\statsbombpy\\api_client.py:21: NoAuthWarning: credentials were not supplied. open data access only\n",
      "  warnings.warn(\n"
     ]
    },
    {
     "name": "stdout",
     "output_type": "stream",
     "text": [
      "Partido 12/51: 3941022 - 3722 eventos\n"
     ]
    },
    {
     "name": "stderr",
     "output_type": "stream",
     "text": [
      "C:\\Users\\nicol\\anaconda3\\Lib\\site-packages\\statsbombpy\\api_client.py:21: NoAuthWarning: credentials were not supplied. open data access only\n",
      "  warnings.warn(\n"
     ]
    },
    {
     "name": "stdout",
     "output_type": "stream",
     "text": [
      "Partido 13/51: 3941021 - 2996 eventos\n"
     ]
    },
    {
     "name": "stderr",
     "output_type": "stream",
     "text": [
      "C:\\Users\\nicol\\anaconda3\\Lib\\site-packages\\statsbombpy\\api_client.py:21: NoAuthWarning: credentials were not supplied. open data access only\n",
      "  warnings.warn(\n"
     ]
    },
    {
     "name": "stdout",
     "output_type": "stream",
     "text": [
      "Partido 14/51: 3941020 - 4221 eventos\n"
     ]
    },
    {
     "name": "stderr",
     "output_type": "stream",
     "text": [
      "C:\\Users\\nicol\\anaconda3\\Lib\\site-packages\\statsbombpy\\api_client.py:21: NoAuthWarning: credentials were not supplied. open data access only\n",
      "  warnings.warn(\n"
     ]
    },
    {
     "name": "stdout",
     "output_type": "stream",
     "text": [
      "Partido 15/51: 3941019 - 3941 eventos\n"
     ]
    },
    {
     "name": "stderr",
     "output_type": "stream",
     "text": [
      "C:\\Users\\nicol\\anaconda3\\Lib\\site-packages\\statsbombpy\\api_client.py:21: NoAuthWarning: credentials were not supplied. open data access only\n",
      "  warnings.warn(\n"
     ]
    },
    {
     "name": "stdout",
     "output_type": "stream",
     "text": [
      "Partido 16/51: 3941018 - 3949 eventos\n"
     ]
    },
    {
     "name": "stderr",
     "output_type": "stream",
     "text": [
      "C:\\Users\\nicol\\anaconda3\\Lib\\site-packages\\statsbombpy\\api_client.py:21: NoAuthWarning: credentials were not supplied. open data access only\n",
      "  warnings.warn(\n"
     ]
    },
    {
     "name": "stdout",
     "output_type": "stream",
     "text": [
      "Partido 17/51: 3941017 - 4764 eventos\n"
     ]
    },
    {
     "name": "stderr",
     "output_type": "stream",
     "text": [
      "C:\\Users\\nicol\\anaconda3\\Lib\\site-packages\\statsbombpy\\api_client.py:21: NoAuthWarning: credentials were not supplied. open data access only\n",
      "  warnings.warn(\n"
     ]
    },
    {
     "name": "stdout",
     "output_type": "stream",
     "text": [
      "Partido 18/51: 3930182 - 3787 eventos\n"
     ]
    },
    {
     "name": "stderr",
     "output_type": "stream",
     "text": [
      "C:\\Users\\nicol\\anaconda3\\Lib\\site-packages\\statsbombpy\\api_client.py:21: NoAuthWarning: credentials were not supplied. open data access only\n",
      "  warnings.warn(\n"
     ]
    },
    {
     "name": "stdout",
     "output_type": "stream",
     "text": [
      "Partido 19/51: 3930179 - 3776 eventos\n"
     ]
    },
    {
     "name": "stderr",
     "output_type": "stream",
     "text": [
      "C:\\Users\\nicol\\anaconda3\\Lib\\site-packages\\statsbombpy\\api_client.py:21: NoAuthWarning: credentials were not supplied. open data access only\n",
      "  warnings.warn(\n"
     ]
    },
    {
     "name": "stdout",
     "output_type": "stream",
     "text": [
      "Partido 20/51: 3940983 - 3640 eventos\n"
     ]
    },
    {
     "name": "stderr",
     "output_type": "stream",
     "text": [
      "C:\\Users\\nicol\\anaconda3\\Lib\\site-packages\\statsbombpy\\api_client.py:21: NoAuthWarning: credentials were not supplied. open data access only\n",
      "  warnings.warn(\n"
     ]
    },
    {
     "name": "stdout",
     "output_type": "stream",
     "text": [
      "Partido 21/51: 3940878 - 3853 eventos\n"
     ]
    },
    {
     "name": "stderr",
     "output_type": "stream",
     "text": [
      "C:\\Users\\nicol\\anaconda3\\Lib\\site-packages\\statsbombpy\\api_client.py:21: NoAuthWarning: credentials were not supplied. open data access only\n",
      "  warnings.warn(\n"
     ]
    },
    {
     "name": "stdout",
     "output_type": "stream",
     "text": [
      "Partido 22/51: 3930177 - 3386 eventos\n"
     ]
    },
    {
     "name": "stderr",
     "output_type": "stream",
     "text": [
      "C:\\Users\\nicol\\anaconda3\\Lib\\site-packages\\statsbombpy\\api_client.py:21: NoAuthWarning: credentials were not supplied. open data access only\n",
      "  warnings.warn(\n"
     ]
    },
    {
     "name": "stdout",
     "output_type": "stream",
     "text": [
      "Partido 23/51: 3930173 - 3681 eventos\n"
     ]
    },
    {
     "name": "stderr",
     "output_type": "stream",
     "text": [
      "C:\\Users\\nicol\\anaconda3\\Lib\\site-packages\\statsbombpy\\api_client.py:21: NoAuthWarning: credentials were not supplied. open data access only\n",
      "  warnings.warn(\n"
     ]
    },
    {
     "name": "stdout",
     "output_type": "stream",
     "text": [
      "Partido 24/51: 3930172 - 3982 eventos\n"
     ]
    },
    {
     "name": "stderr",
     "output_type": "stream",
     "text": [
      "C:\\Users\\nicol\\anaconda3\\Lib\\site-packages\\statsbombpy\\api_client.py:21: NoAuthWarning: credentials were not supplied. open data access only\n",
      "  warnings.warn(\n"
     ]
    },
    {
     "name": "stdout",
     "output_type": "stream",
     "text": [
      "Partido 25/51: 3930167 - 3721 eventos\n"
     ]
    },
    {
     "name": "stderr",
     "output_type": "stream",
     "text": [
      "C:\\Users\\nicol\\anaconda3\\Lib\\site-packages\\statsbombpy\\api_client.py:21: NoAuthWarning: credentials were not supplied. open data access only\n",
      "  warnings.warn(\n"
     ]
    },
    {
     "name": "stdout",
     "output_type": "stream",
     "text": [
      "Partido 26/51: 3930168 - 3880 eventos\n"
     ]
    },
    {
     "name": "stderr",
     "output_type": "stream",
     "text": [
      "C:\\Users\\nicol\\anaconda3\\Lib\\site-packages\\statsbombpy\\api_client.py:21: NoAuthWarning: credentials were not supplied. open data access only\n",
      "  warnings.warn(\n"
     ]
    },
    {
     "name": "stdout",
     "output_type": "stream",
     "text": [
      "Partido 27/51: 3930165 - 3718 eventos\n"
     ]
    },
    {
     "name": "stderr",
     "output_type": "stream",
     "text": [
      "C:\\Users\\nicol\\anaconda3\\Lib\\site-packages\\statsbombpy\\api_client.py:21: NoAuthWarning: credentials were not supplied. open data access only\n",
      "  warnings.warn(\n"
     ]
    },
    {
     "name": "stdout",
     "output_type": "stream",
     "text": [
      "Partido 28/51: 3930164 - 3543 eventos\n"
     ]
    },
    {
     "name": "stderr",
     "output_type": "stream",
     "text": [
      "C:\\Users\\nicol\\anaconda3\\Lib\\site-packages\\statsbombpy\\api_client.py:21: NoAuthWarning: credentials were not supplied. open data access only\n",
      "  warnings.warn(\n"
     ]
    },
    {
     "name": "stdout",
     "output_type": "stream",
     "text": [
      "Partido 29/51: 3930161 - 4066 eventos\n"
     ]
    },
    {
     "name": "stderr",
     "output_type": "stream",
     "text": [
      "C:\\Users\\nicol\\anaconda3\\Lib\\site-packages\\statsbombpy\\api_client.py:21: NoAuthWarning: credentials were not supplied. open data access only\n",
      "  warnings.warn(\n"
     ]
    },
    {
     "name": "stdout",
     "output_type": "stream",
     "text": [
      "Partido 30/51: 3938637 - 3401 eventos\n"
     ]
    },
    {
     "name": "stderr",
     "output_type": "stream",
     "text": [
      "C:\\Users\\nicol\\anaconda3\\Lib\\site-packages\\statsbombpy\\api_client.py:21: NoAuthWarning: credentials were not supplied. open data access only\n",
      "  warnings.warn(\n"
     ]
    },
    {
     "name": "stdout",
     "output_type": "stream",
     "text": [
      "Partido 31/51: 3938640 - 3512 eventos\n"
     ]
    },
    {
     "name": "stderr",
     "output_type": "stream",
     "text": [
      "C:\\Users\\nicol\\anaconda3\\Lib\\site-packages\\statsbombpy\\api_client.py:21: NoAuthWarning: credentials were not supplied. open data access only\n",
      "  warnings.warn(\n"
     ]
    },
    {
     "name": "stdout",
     "output_type": "stream",
     "text": [
      "Partido 32/51: 3938642 - 3332 eventos\n"
     ]
    },
    {
     "name": "stderr",
     "output_type": "stream",
     "text": [
      "C:\\Users\\nicol\\anaconda3\\Lib\\site-packages\\statsbombpy\\api_client.py:21: NoAuthWarning: credentials were not supplied. open data access only\n",
      "  warnings.warn(\n"
     ]
    },
    {
     "name": "stdout",
     "output_type": "stream",
     "text": [
      "Partido 33/51: 3938639 - 3837 eventos\n"
     ]
    },
    {
     "name": "stderr",
     "output_type": "stream",
     "text": [
      "C:\\Users\\nicol\\anaconda3\\Lib\\site-packages\\statsbombpy\\api_client.py:21: NoAuthWarning: credentials were not supplied. open data access only\n",
      "  warnings.warn(\n"
     ]
    },
    {
     "name": "stdout",
     "output_type": "stream",
     "text": [
      "Partido 34/51: 3938641 - 3400 eventos\n"
     ]
    },
    {
     "name": "stderr",
     "output_type": "stream",
     "text": [
      "C:\\Users\\nicol\\anaconda3\\Lib\\site-packages\\statsbombpy\\api_client.py:21: NoAuthWarning: credentials were not supplied. open data access only\n",
      "  warnings.warn(\n"
     ]
    },
    {
     "name": "stdout",
     "output_type": "stream",
     "text": [
      "Partido 35/51: 3938644 - 3659 eventos\n"
     ]
    },
    {
     "name": "stderr",
     "output_type": "stream",
     "text": [
      "C:\\Users\\nicol\\anaconda3\\Lib\\site-packages\\statsbombpy\\api_client.py:21: NoAuthWarning: credentials were not supplied. open data access only\n",
      "  warnings.warn(\n"
     ]
    },
    {
     "name": "stdout",
     "output_type": "stream",
     "text": [
      "Partido 36/51: 3938643 - 3767 eventos\n"
     ]
    },
    {
     "name": "stderr",
     "output_type": "stream",
     "text": [
      "C:\\Users\\nicol\\anaconda3\\Lib\\site-packages\\statsbombpy\\api_client.py:21: NoAuthWarning: credentials were not supplied. open data access only\n",
      "  warnings.warn(\n"
     ]
    },
    {
     "name": "stdout",
     "output_type": "stream",
     "text": [
      "Partido 37/51: 3938638 - 3169 eventos\n"
     ]
    },
    {
     "name": "stderr",
     "output_type": "stream",
     "text": [
      "C:\\Users\\nicol\\anaconda3\\Lib\\site-packages\\statsbombpy\\api_client.py:21: NoAuthWarning: credentials were not supplied. open data access only\n",
      "  warnings.warn(\n"
     ]
    },
    {
     "name": "stdout",
     "output_type": "stream",
     "text": [
      "Partido 38/51: 3930183 - 2886 eventos\n"
     ]
    },
    {
     "name": "stderr",
     "output_type": "stream",
     "text": [
      "C:\\Users\\nicol\\anaconda3\\Lib\\site-packages\\statsbombpy\\api_client.py:21: NoAuthWarning: credentials were not supplied. open data access only\n",
      "  warnings.warn(\n"
     ]
    },
    {
     "name": "stdout",
     "output_type": "stream",
     "text": [
      "Partido 39/51: 3930181 - 3688 eventos\n"
     ]
    },
    {
     "name": "stderr",
     "output_type": "stream",
     "text": [
      "C:\\Users\\nicol\\anaconda3\\Lib\\site-packages\\statsbombpy\\api_client.py:21: NoAuthWarning: credentials were not supplied. open data access only\n",
      "  warnings.warn(\n"
     ]
    },
    {
     "name": "stdout",
     "output_type": "stream",
     "text": [
      "Partido 40/51: 3930178 - 4006 eventos\n"
     ]
    },
    {
     "name": "stderr",
     "output_type": "stream",
     "text": [
      "C:\\Users\\nicol\\anaconda3\\Lib\\site-packages\\statsbombpy\\api_client.py:21: NoAuthWarning: credentials were not supplied. open data access only\n",
      "  warnings.warn(\n"
     ]
    },
    {
     "name": "stdout",
     "output_type": "stream",
     "text": [
      "Partido 41/51: 3930176 - 3724 eventos\n"
     ]
    },
    {
     "name": "stderr",
     "output_type": "stream",
     "text": [
      "C:\\Users\\nicol\\anaconda3\\Lib\\site-packages\\statsbombpy\\api_client.py:21: NoAuthWarning: credentials were not supplied. open data access only\n",
      "  warnings.warn(\n"
     ]
    },
    {
     "name": "stdout",
     "output_type": "stream",
     "text": [
      "Partido 42/51: 3930175 - 3200 eventos\n"
     ]
    },
    {
     "name": "stderr",
     "output_type": "stream",
     "text": [
      "C:\\Users\\nicol\\anaconda3\\Lib\\site-packages\\statsbombpy\\api_client.py:21: NoAuthWarning: credentials were not supplied. open data access only\n",
      "  warnings.warn(\n"
     ]
    },
    {
     "name": "stdout",
     "output_type": "stream",
     "text": [
      "Partido 43/51: 3930174 - 3786 eventos\n"
     ]
    },
    {
     "name": "stderr",
     "output_type": "stream",
     "text": [
      "C:\\Users\\nicol\\anaconda3\\Lib\\site-packages\\statsbombpy\\api_client.py:21: NoAuthWarning: credentials were not supplied. open data access only\n",
      "  warnings.warn(\n"
     ]
    },
    {
     "name": "stdout",
     "output_type": "stream",
     "text": [
      "Partido 44/51: 3930170 - 3552 eventos\n"
     ]
    },
    {
     "name": "stderr",
     "output_type": "stream",
     "text": [
      "C:\\Users\\nicol\\anaconda3\\Lib\\site-packages\\statsbombpy\\api_client.py:21: NoAuthWarning: credentials were not supplied. open data access only\n",
      "  warnings.warn(\n"
     ]
    },
    {
     "name": "stdout",
     "output_type": "stream",
     "text": [
      "Partido 45/51: 3930169 - 3125 eventos\n"
     ]
    },
    {
     "name": "stderr",
     "output_type": "stream",
     "text": [
      "C:\\Users\\nicol\\anaconda3\\Lib\\site-packages\\statsbombpy\\api_client.py:21: NoAuthWarning: credentials were not supplied. open data access only\n",
      "  warnings.warn(\n"
     ]
    },
    {
     "name": "stdout",
     "output_type": "stream",
     "text": [
      "Partido 46/51: 3930166 - 3602 eventos\n"
     ]
    },
    {
     "name": "stderr",
     "output_type": "stream",
     "text": [
      "C:\\Users\\nicol\\anaconda3\\Lib\\site-packages\\statsbombpy\\api_client.py:21: NoAuthWarning: credentials were not supplied. open data access only\n",
      "  warnings.warn(\n"
     ]
    },
    {
     "name": "stdout",
     "output_type": "stream",
     "text": [
      "Partido 47/51: 3930163 - 3920 eventos\n"
     ]
    },
    {
     "name": "stderr",
     "output_type": "stream",
     "text": [
      "C:\\Users\\nicol\\anaconda3\\Lib\\site-packages\\statsbombpy\\api_client.py:21: NoAuthWarning: credentials were not supplied. open data access only\n",
      "  warnings.warn(\n"
     ]
    },
    {
     "name": "stdout",
     "output_type": "stream",
     "text": [
      "Partido 48/51: 3930162 - 3509 eventos\n"
     ]
    },
    {
     "name": "stderr",
     "output_type": "stream",
     "text": [
      "C:\\Users\\nicol\\anaconda3\\Lib\\site-packages\\statsbombpy\\api_client.py:21: NoAuthWarning: credentials were not supplied. open data access only\n",
      "  warnings.warn(\n"
     ]
    },
    {
     "name": "stdout",
     "output_type": "stream",
     "text": [
      "Partido 49/51: 3930160 - 3796 eventos\n"
     ]
    },
    {
     "name": "stderr",
     "output_type": "stream",
     "text": [
      "C:\\Users\\nicol\\anaconda3\\Lib\\site-packages\\statsbombpy\\api_client.py:21: NoAuthWarning: credentials were not supplied. open data access only\n",
      "  warnings.warn(\n"
     ]
    },
    {
     "name": "stdout",
     "output_type": "stream",
     "text": [
      "Partido 50/51: 3930159 - 3356 eventos\n"
     ]
    },
    {
     "name": "stderr",
     "output_type": "stream",
     "text": [
      "C:\\Users\\nicol\\anaconda3\\Lib\\site-packages\\statsbombpy\\api_client.py:21: NoAuthWarning: credentials were not supplied. open data access only\n",
      "  warnings.warn(\n"
     ]
    },
    {
     "name": "stdout",
     "output_type": "stream",
     "text": [
      "Partido 51/51: 3930158 - 3373 eventos\n"
     ]
    }
   ],
   "source": [
    "total_events = []\n",
    "\n",
    "for i, match_id in enumerate(matches_df['match_id']):\n",
    "    try:\n",
    "        events_match = sb.events(match_id=match_id)\n",
    "        events_match['match_id'] = match_id\n",
    "        total_events.append(events_match)\n",
    "\n",
    "        print(f\"Partido {i+1}/{len(matches_df)}: {match_id} - {len(events_match)} eventos\")\n",
    "\n",
    "    except Exception as e:\n",
    "        print(f\"Error en partido {match_id}: {e}\")\n",
    "\n",
    "events_df = pd.concat(total_events, ignore_index=True)"
   ]
  },
  {
   "cell_type": "code",
   "execution_count": 35,
   "id": "0d20eae8-872a-4502-9c87-2180cf24a4c8",
   "metadata": {},
   "outputs": [
    {
     "data": {
      "text/plain": [
       "(187858, 114)"
      ]
     },
     "execution_count": 35,
     "metadata": {},
     "output_type": "execute_result"
    }
   ],
   "source": [
    "events_df.shape"
   ]
  },
  {
   "cell_type": "code",
   "execution_count": 36,
   "id": "a5d64b75-47da-4abd-8f4a-55a9c395096f",
   "metadata": {},
   "outputs": [
    {
     "data": {
      "text/plain": [
       "array(['50_50', 'bad_behaviour_card', 'ball_receipt_outcome',\n",
       "       'block_deflection', 'block_save_block', 'carry_end_location',\n",
       "       'clearance_aerial_won', 'clearance_body_part', 'clearance_head',\n",
       "       'clearance_left_foot', 'clearance_right_foot', 'counterpress',\n",
       "       'dribble_outcome', 'duel_outcome', 'duel_type', 'duration',\n",
       "       'foul_committed_advantage', 'foul_committed_card',\n",
       "       'foul_committed_penalty', 'foul_won_advantage',\n",
       "       'foul_won_defensive', 'foul_won_penalty', 'goalkeeper_body_part',\n",
       "       'goalkeeper_end_location', 'goalkeeper_outcome',\n",
       "       'goalkeeper_position', 'goalkeeper_punched_out',\n",
       "       'goalkeeper_technique', 'goalkeeper_type', 'id', 'index',\n",
       "       'injury_stoppage_in_chain', 'interception_outcome', 'location',\n",
       "       'match_id', 'minute', 'off_camera', 'out', 'pass_aerial_won',\n",
       "       'pass_angle', 'pass_assisted_shot_id', 'pass_body_part',\n",
       "       'pass_cross', 'pass_cut_back', 'pass_deflected',\n",
       "       'pass_end_location', 'pass_goal_assist', 'pass_height',\n",
       "       'pass_length', 'pass_outcome', 'pass_outswinging',\n",
       "       'pass_recipient', 'pass_recipient_id', 'pass_shot_assist',\n",
       "       'pass_switch', 'pass_technique', 'pass_through_ball', 'pass_type',\n",
       "       'period', 'play_pattern', 'player', 'player_id', 'position',\n",
       "       'possession', 'possession_team', 'possession_team_id',\n",
       "       'related_events', 'second', 'shot_aerial_won', 'shot_body_part',\n",
       "       'shot_deflected', 'shot_end_location', 'shot_first_time',\n",
       "       'shot_freeze_frame', 'shot_key_pass_id', 'shot_outcome',\n",
       "       'shot_statsbomb_xg', 'shot_technique', 'shot_type',\n",
       "       'substitution_outcome', 'substitution_outcome_id',\n",
       "       'substitution_replacement', 'substitution_replacement_id',\n",
       "       'tactics', 'team', 'team_id', 'timestamp', 'type',\n",
       "       'under_pressure', 'ball_recovery_recovery_failure',\n",
       "       'block_offensive', 'dribble_nutmeg', 'dribble_overrun',\n",
       "       'foul_committed_offensive', 'pass_inswinging', 'pass_no_touch',\n",
       "       'shot_one_on_one', 'clearance_other', 'foul_committed_type',\n",
       "       'miscontrol_aerial_won', 'goalkeeper_shot_saved_to_post',\n",
       "       'pass_straight', 'shot_open_goal', 'shot_saved_to_post',\n",
       "       'goalkeeper_success_in_play', 'ball_recovery_offensive',\n",
       "       'dribble_no_touch', 'pass_miscommunication',\n",
       "       'player_off_permanent', 'goalkeeper_penalty_saved_to_post',\n",
       "       'goalkeeper_shot_saved_off_target', 'shot_follows_dribble',\n",
       "       'shot_saved_off_target', 'shot_redirect'], dtype=object)"
      ]
     },
     "execution_count": 36,
     "metadata": {},
     "output_type": "execute_result"
    }
   ],
   "source": [
    "events_df.columns.values"
   ]
  },
  {
   "cell_type": "code",
   "execution_count": 37,
   "id": "eb3c17fd-50bf-4162-82c3-c0bc154fa489",
   "metadata": {},
   "outputs": [],
   "source": [
    "events_filtered = events_df[events_df['team'].isin(['Spain', 'England'])]"
   ]
  },
  {
   "cell_type": "code",
   "execution_count": 38,
   "id": "3d953e06-ade4-44f6-ab5f-88e20ff3ad12",
   "metadata": {},
   "outputs": [
    {
     "data": {
      "text/plain": [
       "(30115, 114)"
      ]
     },
     "execution_count": 38,
     "metadata": {},
     "output_type": "execute_result"
    }
   ],
   "source": [
    "events_filtered.shape"
   ]
  },
  {
   "cell_type": "code",
   "execution_count": 39,
   "id": "8aedc40c-3dfd-4f8a-8f58-146f23de4481",
   "metadata": {},
   "outputs": [
    {
     "data": {
      "text/plain": [
       "50_50                               30077\n",
       "bad_behaviour_card                  30110\n",
       "ball_receipt_outcome                29351\n",
       "block_deflection                    30110\n",
       "block_save_block                    30114\n",
       "                                    ...  \n",
       "goalkeeper_penalty_saved_to_post    30115\n",
       "goalkeeper_shot_saved_off_target    30114\n",
       "shot_follows_dribble                30115\n",
       "shot_saved_off_target               30113\n",
       "shot_redirect                       30115\n",
       "Length: 114, dtype: int64"
      ]
     },
     "execution_count": 39,
     "metadata": {},
     "output_type": "execute_result"
    }
   ],
   "source": [
    "events_filtered.isnull().sum()"
   ]
  },
  {
   "cell_type": "code",
   "execution_count": 40,
   "id": "ad4b759f-3121-49da-8d99-a02cefe5f5de",
   "metadata": {},
   "outputs": [
    {
     "data": {
      "text/plain": [
       "array(['50_50', 'bad_behaviour_card', 'ball_receipt_outcome',\n",
       "       'block_deflection', 'block_save_block', 'carry_end_location',\n",
       "       'clearance_aerial_won', 'clearance_body_part', 'clearance_head',\n",
       "       'clearance_left_foot', 'clearance_right_foot', 'counterpress',\n",
       "       'dribble_outcome', 'duel_outcome', 'duel_type', 'duration',\n",
       "       'foul_committed_advantage', 'foul_committed_card',\n",
       "       'foul_committed_penalty', 'foul_won_advantage',\n",
       "       'foul_won_defensive', 'foul_won_penalty', 'goalkeeper_body_part',\n",
       "       'goalkeeper_end_location', 'goalkeeper_outcome',\n",
       "       'goalkeeper_position', 'goalkeeper_punched_out',\n",
       "       'goalkeeper_technique', 'goalkeeper_type', 'id', 'index',\n",
       "       'injury_stoppage_in_chain', 'interception_outcome', 'location',\n",
       "       'match_id', 'minute', 'off_camera', 'out', 'pass_aerial_won',\n",
       "       'pass_angle', 'pass_assisted_shot_id', 'pass_body_part',\n",
       "       'pass_cross', 'pass_cut_back', 'pass_deflected',\n",
       "       'pass_end_location', 'pass_goal_assist', 'pass_height',\n",
       "       'pass_length', 'pass_outcome', 'pass_outswinging',\n",
       "       'pass_recipient', 'pass_recipient_id', 'pass_shot_assist',\n",
       "       'pass_switch', 'pass_technique', 'pass_through_ball', 'pass_type',\n",
       "       'period', 'play_pattern', 'player', 'player_id', 'position',\n",
       "       'possession', 'possession_team', 'possession_team_id',\n",
       "       'related_events', 'second', 'shot_aerial_won', 'shot_body_part',\n",
       "       'shot_deflected', 'shot_end_location', 'shot_first_time',\n",
       "       'shot_freeze_frame', 'shot_key_pass_id', 'shot_outcome',\n",
       "       'shot_statsbomb_xg', 'shot_technique', 'shot_type',\n",
       "       'substitution_outcome', 'substitution_outcome_id',\n",
       "       'substitution_replacement', 'substitution_replacement_id',\n",
       "       'tactics', 'team', 'team_id', 'timestamp', 'type',\n",
       "       'under_pressure', 'ball_recovery_recovery_failure',\n",
       "       'block_offensive', 'dribble_nutmeg', 'dribble_overrun',\n",
       "       'foul_committed_offensive', 'pass_inswinging', 'pass_no_touch',\n",
       "       'shot_one_on_one', 'clearance_other', 'foul_committed_type',\n",
       "       'miscontrol_aerial_won', 'goalkeeper_shot_saved_to_post',\n",
       "       'pass_straight', 'shot_open_goal', 'shot_saved_to_post',\n",
       "       'goalkeeper_success_in_play', 'ball_recovery_offensive',\n",
       "       'dribble_no_touch', 'pass_miscommunication',\n",
       "       'player_off_permanent', 'goalkeeper_penalty_saved_to_post',\n",
       "       'goalkeeper_shot_saved_off_target', 'shot_follows_dribble',\n",
       "       'shot_saved_off_target', 'shot_redirect'], dtype=object)"
      ]
     },
     "execution_count": 40,
     "metadata": {},
     "output_type": "execute_result"
    }
   ],
   "source": [
    "events_filtered.columns.values"
   ]
  },
  {
   "cell_type": "code",
   "execution_count": 41,
   "id": "cf0aa49d-fe6a-4df5-8756-a9ec05fe69e3",
   "metadata": {},
   "outputs": [
    {
     "name": "stdout",
     "output_type": "stream",
     "text": [
      "Total Rice events: 1671\n",
      "type\n",
      "Pass               536\n",
      "Ball Receipt*      468\n",
      "Carry              443\n",
      "Pressure            82\n",
      "Ball Recovery       40\n",
      "Duel                24\n",
      "Block               11\n",
      "Shot                 9\n",
      "Clearance            9\n",
      "Interception         8\n",
      "Foul Committed       8\n",
      "Dispossessed         7\n",
      "Dribble              6\n",
      "Foul Won             5\n",
      "Miscontrol           5\n",
      "50/50                5\n",
      "Dribbled Past        3\n",
      "Injury Stoppage      2\n",
      "Name: count, dtype: int64\n"
     ]
    }
   ],
   "source": [
    "rice_events = events_filtered[\n",
    "    events_filtered['player'].isin(['Declan Rice'])\n",
    "]\n",
    "\n",
    "print(f\"Total Rice events: {len(rice_events)}\")\n",
    "\n",
    "print(rice_events['type'].value_counts())"
   ]
  },
  {
   "cell_type": "code",
   "execution_count": 42,
   "id": "cc9b6931-d8e4-4e88-b877-1887a4cb5f4f",
   "metadata": {},
   "outputs": [
    {
     "name": "stdout",
     "output_type": "stream",
     "text": [
      "Total Rodri events: 1373\n",
      "type\n",
      "Pass               436\n",
      "Ball Receipt*      382\n",
      "Carry              355\n",
      "Pressure            89\n",
      "Ball Recovery       28\n",
      "Duel                15\n",
      "Block               12\n",
      "Clearance           12\n",
      "Foul Committed       8\n",
      "Foul Won             7\n",
      "Shot                 5\n",
      "Dribbled Past        4\n",
      "Dribble              3\n",
      "Interception         3\n",
      "50/50                3\n",
      "Miscontrol           3\n",
      "Injury Stoppage      3\n",
      "Dispossessed         2\n",
      "Substitution         2\n",
      "Bad Behaviour        1\n",
      "Name: count, dtype: int64\n"
     ]
    }
   ],
   "source": [
    "rodri_events = events_filtered[\n",
    "    events_filtered['player'].isin(['Rodrigo Hernández Cascante'])\n",
    "]\n",
    "\n",
    "print(f\"Total Rodri events: {len(rodri_events)}\")\n",
    "\n",
    "print(rodri_events['type'].value_counts())"
   ]
  },
  {
   "cell_type": "code",
   "execution_count": 52,
   "id": "c0a942e3-ebff-40ce-9303-81153ff116c0",
   "metadata": {},
   "outputs": [
    {
     "data": {
      "text/plain": [
       "(1373, 114)"
      ]
     },
     "execution_count": 52,
     "metadata": {},
     "output_type": "execute_result"
    }
   ],
   "source": [
    "rodri_events.shape"
   ]
  },
  {
   "cell_type": "code",
   "execution_count": 54,
   "id": "a8a8b13b-4c3a-420c-98d4-bae2dac294f7",
   "metadata": {},
   "outputs": [
    {
     "data": {
      "text/plain": [
       "array(['50_50', 'bad_behaviour_card', 'ball_receipt_outcome',\n",
       "       'block_deflection', 'block_save_block', 'carry_end_location',\n",
       "       'clearance_aerial_won', 'clearance_body_part', 'clearance_head',\n",
       "       'clearance_left_foot', 'clearance_right_foot', 'counterpress',\n",
       "       'dribble_outcome', 'duel_outcome', 'duel_type', 'duration',\n",
       "       'foul_committed_advantage', 'foul_committed_card',\n",
       "       'foul_committed_penalty', 'foul_won_advantage',\n",
       "       'foul_won_defensive', 'foul_won_penalty', 'goalkeeper_body_part',\n",
       "       'goalkeeper_end_location', 'goalkeeper_outcome',\n",
       "       'goalkeeper_position', 'goalkeeper_punched_out',\n",
       "       'goalkeeper_technique', 'goalkeeper_type', 'id', 'index',\n",
       "       'injury_stoppage_in_chain', 'interception_outcome', 'location',\n",
       "       'match_id', 'minute', 'off_camera', 'out', 'pass_aerial_won',\n",
       "       'pass_angle', 'pass_assisted_shot_id', 'pass_body_part',\n",
       "       'pass_cross', 'pass_cut_back', 'pass_deflected',\n",
       "       'pass_end_location', 'pass_goal_assist', 'pass_height',\n",
       "       'pass_length', 'pass_outcome', 'pass_outswinging',\n",
       "       'pass_recipient', 'pass_recipient_id', 'pass_shot_assist',\n",
       "       'pass_switch', 'pass_technique', 'pass_through_ball', 'pass_type',\n",
       "       'period', 'play_pattern', 'player', 'player_id', 'position',\n",
       "       'possession', 'possession_team', 'possession_team_id',\n",
       "       'related_events', 'second', 'shot_aerial_won', 'shot_body_part',\n",
       "       'shot_deflected', 'shot_end_location', 'shot_first_time',\n",
       "       'shot_freeze_frame', 'shot_key_pass_id', 'shot_outcome',\n",
       "       'shot_statsbomb_xg', 'shot_technique', 'shot_type',\n",
       "       'substitution_outcome', 'substitution_outcome_id',\n",
       "       'substitution_replacement', 'substitution_replacement_id',\n",
       "       'tactics', 'team', 'team_id', 'timestamp', 'type',\n",
       "       'under_pressure', 'ball_recovery_recovery_failure',\n",
       "       'block_offensive', 'dribble_nutmeg', 'dribble_overrun',\n",
       "       'foul_committed_offensive', 'pass_inswinging', 'pass_no_touch',\n",
       "       'shot_one_on_one', 'clearance_other', 'foul_committed_type',\n",
       "       'miscontrol_aerial_won', 'goalkeeper_shot_saved_to_post',\n",
       "       'pass_straight', 'shot_open_goal', 'shot_saved_to_post',\n",
       "       'goalkeeper_success_in_play', 'ball_recovery_offensive',\n",
       "       'dribble_no_touch', 'pass_miscommunication',\n",
       "       'player_off_permanent', 'goalkeeper_penalty_saved_to_post',\n",
       "       'goalkeeper_shot_saved_off_target', 'shot_follows_dribble',\n",
       "       'shot_saved_off_target', 'shot_redirect'], dtype=object)"
      ]
     },
     "execution_count": 54,
     "metadata": {},
     "output_type": "execute_result"
    }
   ],
   "source": [
    "rodri_events.columns.values"
   ]
  },
  {
   "cell_type": "code",
   "execution_count": 56,
   "id": "58d31f42-0396-4fda-8206-1c751dcd733a",
   "metadata": {},
   "outputs": [
    {
     "data": {
      "text/plain": [
       "array(['Pass', 'Ball Receipt*', 'Carry', 'Pressure', 'Block', 'Duel',\n",
       "       'Ball Recovery', 'Clearance', 'Dribbled Past', 'Foul Committed',\n",
       "       'Substitution', 'Dribble', 'Interception', '50/50', 'Miscontrol',\n",
       "       'Foul Won', 'Shot', 'Injury Stoppage', 'Dispossessed',\n",
       "       'Bad Behaviour'], dtype=object)"
      ]
     },
     "execution_count": 56,
     "metadata": {},
     "output_type": "execute_result"
    }
   ],
   "source": [
    "rodri_events['type'].unique()"
   ]
  },
  {
   "cell_type": "code",
   "execution_count": 58,
   "id": "482b4b26-0f7a-4bc9-ada1-e661fa9e34dd",
   "metadata": {},
   "outputs": [
    {
     "data": {
      "text/plain": [
       "50_50                               1370\n",
       "bad_behaviour_card                  1372\n",
       "ball_receipt_outcome                1362\n",
       "block_deflection                    1372\n",
       "block_save_block                    1373\n",
       "                                    ... \n",
       "goalkeeper_penalty_saved_to_post    1373\n",
       "goalkeeper_shot_saved_off_target    1373\n",
       "shot_follows_dribble                1373\n",
       "shot_saved_off_target               1373\n",
       "shot_redirect                       1373\n",
       "Length: 114, dtype: int64"
      ]
     },
     "execution_count": 58,
     "metadata": {},
     "output_type": "execute_result"
    }
   ],
   "source": [
    "rodri_events.isnull().sum()"
   ]
  },
  {
   "cell_type": "code",
   "execution_count": 59,
   "id": "c37217ea-8e49-4fb9-b70c-61a750f85e00",
   "metadata": {},
   "outputs": [],
   "source": [
    "matches_spain_england = matches_df[\n",
    "    (matches_df['home_team'].isin(['Spain', 'England'])) |\n",
    "    (matches_df['away_team'].isin(['Spain', 'England']))\n",
    "]"
   ]
  },
  {
   "cell_type": "code",
   "execution_count": 60,
   "id": "8f24d1fe-ad4e-45ac-bf61-053c2ed15ba9",
   "metadata": {},
   "outputs": [
    {
     "name": "stderr",
     "output_type": "stream",
     "text": [
      "C:\\Users\\nicol\\anaconda3\\Lib\\site-packages\\statsbombpy\\api_client.py:21: NoAuthWarning: credentials were not supplied. open data access only\n",
      "  warnings.warn(\n"
     ]
    },
    {
     "name": "stdout",
     "output_type": "stream",
     "text": [
      "360: 3942819\n"
     ]
    },
    {
     "name": "stderr",
     "output_type": "stream",
     "text": [
      "C:\\Users\\nicol\\anaconda3\\Lib\\site-packages\\statsbombpy\\api_client.py:21: NoAuthWarning: credentials were not supplied. open data access only\n",
      "  warnings.warn(\n"
     ]
    },
    {
     "name": "stdout",
     "output_type": "stream",
     "text": [
      "360: 3943043\n"
     ]
    },
    {
     "name": "stderr",
     "output_type": "stream",
     "text": [
      "C:\\Users\\nicol\\anaconda3\\Lib\\site-packages\\statsbombpy\\api_client.py:21: NoAuthWarning: credentials were not supplied. open data access only\n",
      "  warnings.warn(\n"
     ]
    },
    {
     "name": "stdout",
     "output_type": "stream",
     "text": [
      "360: 3942752\n"
     ]
    },
    {
     "name": "stderr",
     "output_type": "stream",
     "text": [
      "C:\\Users\\nicol\\anaconda3\\Lib\\site-packages\\statsbombpy\\api_client.py:21: NoAuthWarning: credentials were not supplied. open data access only\n",
      "  warnings.warn(\n"
     ]
    },
    {
     "name": "stdout",
     "output_type": "stream",
     "text": [
      "360: 3930171\n"
     ]
    },
    {
     "name": "stderr",
     "output_type": "stream",
     "text": [
      "C:\\Users\\nicol\\anaconda3\\Lib\\site-packages\\statsbombpy\\api_client.py:21: NoAuthWarning: credentials were not supplied. open data access only\n",
      "  warnings.warn(\n"
     ]
    },
    {
     "name": "stdout",
     "output_type": "stream",
     "text": [
      "360: 3942227\n"
     ]
    },
    {
     "name": "stderr",
     "output_type": "stream",
     "text": [
      "C:\\Users\\nicol\\anaconda3\\Lib\\site-packages\\statsbombpy\\api_client.py:21: NoAuthWarning: credentials were not supplied. open data access only\n",
      "  warnings.warn(\n"
     ]
    },
    {
     "name": "stdout",
     "output_type": "stream",
     "text": [
      "360: 3942226\n"
     ]
    },
    {
     "name": "stderr",
     "output_type": "stream",
     "text": [
      "C:\\Users\\nicol\\anaconda3\\Lib\\site-packages\\statsbombpy\\api_client.py:21: NoAuthWarning: credentials were not supplied. open data access only\n",
      "  warnings.warn(\n"
     ]
    },
    {
     "name": "stdout",
     "output_type": "stream",
     "text": [
      "360: 3941018\n"
     ]
    },
    {
     "name": "stderr",
     "output_type": "stream",
     "text": [
      "C:\\Users\\nicol\\anaconda3\\Lib\\site-packages\\statsbombpy\\api_client.py:21: NoAuthWarning: credentials were not supplied. open data access only\n",
      "  warnings.warn(\n"
     ]
    },
    {
     "name": "stdout",
     "output_type": "stream",
     "text": [
      "360: 3941017\n"
     ]
    },
    {
     "name": "stderr",
     "output_type": "stream",
     "text": [
      "C:\\Users\\nicol\\anaconda3\\Lib\\site-packages\\statsbombpy\\api_client.py:21: NoAuthWarning: credentials were not supplied. open data access only\n",
      "  warnings.warn(\n"
     ]
    },
    {
     "name": "stdout",
     "output_type": "stream",
     "text": [
      "360: 3930179\n"
     ]
    },
    {
     "name": "stderr",
     "output_type": "stream",
     "text": [
      "C:\\Users\\nicol\\anaconda3\\Lib\\site-packages\\statsbombpy\\api_client.py:21: NoAuthWarning: credentials were not supplied. open data access only\n",
      "  warnings.warn(\n"
     ]
    },
    {
     "name": "stdout",
     "output_type": "stream",
     "text": [
      "360: 3930172\n"
     ]
    },
    {
     "name": "stderr",
     "output_type": "stream",
     "text": [
      "C:\\Users\\nicol\\anaconda3\\Lib\\site-packages\\statsbombpy\\api_client.py:21: NoAuthWarning: credentials were not supplied. open data access only\n",
      "  warnings.warn(\n"
     ]
    },
    {
     "name": "stdout",
     "output_type": "stream",
     "text": [
      "360: 3930181\n"
     ]
    },
    {
     "name": "stderr",
     "output_type": "stream",
     "text": [
      "C:\\Users\\nicol\\anaconda3\\Lib\\site-packages\\statsbombpy\\api_client.py:21: NoAuthWarning: credentials were not supplied. open data access only\n",
      "  warnings.warn(\n"
     ]
    },
    {
     "name": "stdout",
     "output_type": "stream",
     "text": [
      "360: 3930163\n"
     ]
    },
    {
     "name": "stderr",
     "output_type": "stream",
     "text": [
      "C:\\Users\\nicol\\anaconda3\\Lib\\site-packages\\statsbombpy\\api_client.py:21: NoAuthWarning: credentials were not supplied. open data access only\n",
      "  warnings.warn(\n"
     ]
    },
    {
     "name": "stdout",
     "output_type": "stream",
     "text": [
      "360: 3930160\n"
     ]
    }
   ],
   "source": [
    "frames_360_list = []\n",
    "\n",
    "for match_id in matches_spain_england['match_id']:\n",
    "    try:\n",
    "        frames_360 = sb.frames(match_id=match_id)\n",
    "        frames_360['match_id'] = match_id\n",
    "        frames_360_list.append(frames_360)\n",
    "        print(f\"360: {match_id}\")\n",
    "    except Exception as e:\n",
    "        print(f\"Error: {match_id} - {e}\")\n",
    "\n",
    "frames_360_df = pd.concat(frames_360_list, ignore_index=True)"
   ]
  },
  {
   "cell_type": "code",
   "execution_count": 61,
   "id": "be53cd7b-96bc-4b6c-be51-e96686426021",
   "metadata": {},
   "outputs": [
    {
     "data": {
      "text/plain": [
       "(739979, 7)"
      ]
     },
     "execution_count": 61,
     "metadata": {},
     "output_type": "execute_result"
    }
   ],
   "source": [
    "frames_360_df.shape"
   ]
  },
  {
   "cell_type": "code",
   "execution_count": 62,
   "id": "b3d0cf96-b1f2-42be-82b2-06ac742cefe1",
   "metadata": {},
   "outputs": [
    {
     "data": {
      "text/plain": [
       "array(['id', 'visible_area', 'match_id', 'teammate', 'actor', 'keeper',\n",
       "       'location'], dtype=object)"
      ]
     },
     "execution_count": 62,
     "metadata": {},
     "output_type": "execute_result"
    }
   ],
   "source": [
    "frames_360_df.columns.values"
   ]
  },
  {
   "cell_type": "code",
   "execution_count": 68,
   "id": "830f59eb-6acb-4726-a5a6-876c16108358",
   "metadata": {},
   "outputs": [
    {
     "data": {
      "text/html": [
       "<div>\n",
       "<style scoped>\n",
       "    .dataframe tbody tr th:only-of-type {\n",
       "        vertical-align: middle;\n",
       "    }\n",
       "\n",
       "    .dataframe tbody tr th {\n",
       "        vertical-align: top;\n",
       "    }\n",
       "\n",
       "    .dataframe thead th {\n",
       "        text-align: right;\n",
       "    }\n",
       "</style>\n",
       "<table border=\"1\" class=\"dataframe\">\n",
       "  <thead>\n",
       "    <tr style=\"text-align: right;\">\n",
       "      <th></th>\n",
       "      <th>id</th>\n",
       "      <th>visible_area</th>\n",
       "      <th>match_id</th>\n",
       "      <th>teammate</th>\n",
       "      <th>actor</th>\n",
       "      <th>keeper</th>\n",
       "      <th>location</th>\n",
       "    </tr>\n",
       "  </thead>\n",
       "  <tbody>\n",
       "    <tr>\n",
       "      <th>0</th>\n",
       "      <td>25dfc952-7a85-464f-b884-982064d46cc9</td>\n",
       "      <td>[82.05880352279489, 80.0, 37.469993200629204, ...</td>\n",
       "      <td>3942819</td>\n",
       "      <td>True</td>\n",
       "      <td>False</td>\n",
       "      <td>True</td>\n",
       "      <td>[22.697541663925428, 41.01277368603656]</td>\n",
       "    </tr>\n",
       "    <tr>\n",
       "      <th>1</th>\n",
       "      <td>25dfc952-7a85-464f-b884-982064d46cc9</td>\n",
       "      <td>[82.05880352279489, 80.0, 37.469993200629204, ...</td>\n",
       "      <td>3942819</td>\n",
       "      <td>True</td>\n",
       "      <td>False</td>\n",
       "      <td>False</td>\n",
       "      <td>[46.54665402564941, 46.65992069066397]</td>\n",
       "    </tr>\n",
       "    <tr>\n",
       "      <th>2</th>\n",
       "      <td>25dfc952-7a85-464f-b884-982064d46cc9</td>\n",
       "      <td>[82.05880352279489, 80.0, 37.469993200629204, ...</td>\n",
       "      <td>3942819</td>\n",
       "      <td>True</td>\n",
       "      <td>False</td>\n",
       "      <td>False</td>\n",
       "      <td>[47.44522057974756, 64.52929870627902]</td>\n",
       "    </tr>\n",
       "    <tr>\n",
       "      <th>3</th>\n",
       "      <td>25dfc952-7a85-464f-b884-982064d46cc9</td>\n",
       "      <td>[82.05880352279489, 80.0, 37.469993200629204, ...</td>\n",
       "      <td>3942819</td>\n",
       "      <td>True</td>\n",
       "      <td>False</td>\n",
       "      <td>False</td>\n",
       "      <td>[48.81954571089864, 35.810976155696935]</td>\n",
       "    </tr>\n",
       "    <tr>\n",
       "      <th>4</th>\n",
       "      <td>25dfc952-7a85-464f-b884-982064d46cc9</td>\n",
       "      <td>[82.05880352279489, 80.0, 37.469993200629204, ...</td>\n",
       "      <td>3942819</td>\n",
       "      <td>True</td>\n",
       "      <td>False</td>\n",
       "      <td>False</td>\n",
       "      <td>[49.74595437091587, 27.859841158806844]</td>\n",
       "    </tr>\n",
       "  </tbody>\n",
       "</table>\n",
       "</div>"
      ],
      "text/plain": [
       "                                     id  \\\n",
       "0  25dfc952-7a85-464f-b884-982064d46cc9   \n",
       "1  25dfc952-7a85-464f-b884-982064d46cc9   \n",
       "2  25dfc952-7a85-464f-b884-982064d46cc9   \n",
       "3  25dfc952-7a85-464f-b884-982064d46cc9   \n",
       "4  25dfc952-7a85-464f-b884-982064d46cc9   \n",
       "\n",
       "                                        visible_area  match_id  teammate  \\\n",
       "0  [82.05880352279489, 80.0, 37.469993200629204, ...   3942819      True   \n",
       "1  [82.05880352279489, 80.0, 37.469993200629204, ...   3942819      True   \n",
       "2  [82.05880352279489, 80.0, 37.469993200629204, ...   3942819      True   \n",
       "3  [82.05880352279489, 80.0, 37.469993200629204, ...   3942819      True   \n",
       "4  [82.05880352279489, 80.0, 37.469993200629204, ...   3942819      True   \n",
       "\n",
       "   actor  keeper                                 location  \n",
       "0  False    True  [22.697541663925428, 41.01277368603656]  \n",
       "1  False   False   [46.54665402564941, 46.65992069066397]  \n",
       "2  False   False   [47.44522057974756, 64.52929870627902]  \n",
       "3  False   False  [48.81954571089864, 35.810976155696935]  \n",
       "4  False   False  [49.74595437091587, 27.859841158806844]  "
      ]
     },
     "execution_count": 68,
     "metadata": {},
     "output_type": "execute_result"
    }
   ],
   "source": [
    "frames_360_df.head()"
   ]
  },
  {
   "cell_type": "code",
   "execution_count": 70,
   "id": "6507da5d-1fbb-447b-8e7a-2888770f5705",
   "metadata": {},
   "outputs": [
    {
     "data": {
      "text/html": [
       "<div>\n",
       "<style scoped>\n",
       "    .dataframe tbody tr th:only-of-type {\n",
       "        vertical-align: middle;\n",
       "    }\n",
       "\n",
       "    .dataframe tbody tr th {\n",
       "        vertical-align: top;\n",
       "    }\n",
       "\n",
       "    .dataframe thead th {\n",
       "        text-align: right;\n",
       "    }\n",
       "</style>\n",
       "<table border=\"1\" class=\"dataframe\">\n",
       "  <thead>\n",
       "    <tr style=\"text-align: right;\">\n",
       "      <th></th>\n",
       "      <th>50_50</th>\n",
       "      <th>bad_behaviour_card</th>\n",
       "      <th>ball_receipt_outcome</th>\n",
       "      <th>block_deflection</th>\n",
       "      <th>block_save_block</th>\n",
       "      <th>carry_end_location</th>\n",
       "      <th>clearance_aerial_won</th>\n",
       "      <th>clearance_body_part</th>\n",
       "      <th>clearance_head</th>\n",
       "      <th>clearance_left_foot</th>\n",
       "      <th>...</th>\n",
       "      <th>goalkeeper_success_in_play</th>\n",
       "      <th>ball_recovery_offensive</th>\n",
       "      <th>dribble_no_touch</th>\n",
       "      <th>pass_miscommunication</th>\n",
       "      <th>player_off_permanent</th>\n",
       "      <th>goalkeeper_penalty_saved_to_post</th>\n",
       "      <th>goalkeeper_shot_saved_off_target</th>\n",
       "      <th>shot_follows_dribble</th>\n",
       "      <th>shot_saved_off_target</th>\n",
       "      <th>shot_redirect</th>\n",
       "    </tr>\n",
       "  </thead>\n",
       "  <tbody>\n",
       "    <tr>\n",
       "      <th>3501</th>\n",
       "      <td>NaN</td>\n",
       "      <td>NaN</td>\n",
       "      <td>NaN</td>\n",
       "      <td>NaN</td>\n",
       "      <td>NaN</td>\n",
       "      <td>NaN</td>\n",
       "      <td>NaN</td>\n",
       "      <td>NaN</td>\n",
       "      <td>NaN</td>\n",
       "      <td>NaN</td>\n",
       "      <td>...</td>\n",
       "      <td>NaN</td>\n",
       "      <td>NaN</td>\n",
       "      <td>NaN</td>\n",
       "      <td>NaN</td>\n",
       "      <td>NaN</td>\n",
       "      <td>NaN</td>\n",
       "      <td>NaN</td>\n",
       "      <td>NaN</td>\n",
       "      <td>NaN</td>\n",
       "      <td>NaN</td>\n",
       "    </tr>\n",
       "    <tr>\n",
       "      <th>3533</th>\n",
       "      <td>NaN</td>\n",
       "      <td>NaN</td>\n",
       "      <td>NaN</td>\n",
       "      <td>NaN</td>\n",
       "      <td>NaN</td>\n",
       "      <td>NaN</td>\n",
       "      <td>NaN</td>\n",
       "      <td>NaN</td>\n",
       "      <td>NaN</td>\n",
       "      <td>NaN</td>\n",
       "      <td>...</td>\n",
       "      <td>NaN</td>\n",
       "      <td>NaN</td>\n",
       "      <td>NaN</td>\n",
       "      <td>NaN</td>\n",
       "      <td>NaN</td>\n",
       "      <td>NaN</td>\n",
       "      <td>NaN</td>\n",
       "      <td>NaN</td>\n",
       "      <td>NaN</td>\n",
       "      <td>NaN</td>\n",
       "    </tr>\n",
       "    <tr>\n",
       "      <th>3553</th>\n",
       "      <td>NaN</td>\n",
       "      <td>NaN</td>\n",
       "      <td>NaN</td>\n",
       "      <td>NaN</td>\n",
       "      <td>NaN</td>\n",
       "      <td>NaN</td>\n",
       "      <td>NaN</td>\n",
       "      <td>NaN</td>\n",
       "      <td>NaN</td>\n",
       "      <td>NaN</td>\n",
       "      <td>...</td>\n",
       "      <td>NaN</td>\n",
       "      <td>NaN</td>\n",
       "      <td>NaN</td>\n",
       "      <td>NaN</td>\n",
       "      <td>NaN</td>\n",
       "      <td>NaN</td>\n",
       "      <td>NaN</td>\n",
       "      <td>NaN</td>\n",
       "      <td>NaN</td>\n",
       "      <td>NaN</td>\n",
       "    </tr>\n",
       "    <tr>\n",
       "      <th>3569</th>\n",
       "      <td>NaN</td>\n",
       "      <td>NaN</td>\n",
       "      <td>NaN</td>\n",
       "      <td>NaN</td>\n",
       "      <td>NaN</td>\n",
       "      <td>NaN</td>\n",
       "      <td>NaN</td>\n",
       "      <td>NaN</td>\n",
       "      <td>NaN</td>\n",
       "      <td>NaN</td>\n",
       "      <td>...</td>\n",
       "      <td>NaN</td>\n",
       "      <td>NaN</td>\n",
       "      <td>NaN</td>\n",
       "      <td>NaN</td>\n",
       "      <td>NaN</td>\n",
       "      <td>NaN</td>\n",
       "      <td>NaN</td>\n",
       "      <td>NaN</td>\n",
       "      <td>NaN</td>\n",
       "      <td>NaN</td>\n",
       "    </tr>\n",
       "    <tr>\n",
       "      <th>3572</th>\n",
       "      <td>NaN</td>\n",
       "      <td>NaN</td>\n",
       "      <td>NaN</td>\n",
       "      <td>NaN</td>\n",
       "      <td>NaN</td>\n",
       "      <td>NaN</td>\n",
       "      <td>NaN</td>\n",
       "      <td>NaN</td>\n",
       "      <td>NaN</td>\n",
       "      <td>NaN</td>\n",
       "      <td>...</td>\n",
       "      <td>NaN</td>\n",
       "      <td>NaN</td>\n",
       "      <td>NaN</td>\n",
       "      <td>NaN</td>\n",
       "      <td>NaN</td>\n",
       "      <td>NaN</td>\n",
       "      <td>NaN</td>\n",
       "      <td>NaN</td>\n",
       "      <td>NaN</td>\n",
       "      <td>NaN</td>\n",
       "    </tr>\n",
       "  </tbody>\n",
       "</table>\n",
       "<p>5 rows × 114 columns</p>\n",
       "</div>"
      ],
      "text/plain": [
       "     50_50 bad_behaviour_card ball_receipt_outcome block_deflection  \\\n",
       "3501   NaN                NaN                  NaN              NaN   \n",
       "3533   NaN                NaN                  NaN              NaN   \n",
       "3553   NaN                NaN                  NaN              NaN   \n",
       "3569   NaN                NaN                  NaN              NaN   \n",
       "3572   NaN                NaN                  NaN              NaN   \n",
       "\n",
       "     block_save_block carry_end_location clearance_aerial_won  \\\n",
       "3501              NaN                NaN                  NaN   \n",
       "3533              NaN                NaN                  NaN   \n",
       "3553              NaN                NaN                  NaN   \n",
       "3569              NaN                NaN                  NaN   \n",
       "3572              NaN                NaN                  NaN   \n",
       "\n",
       "     clearance_body_part clearance_head clearance_left_foot  ...  \\\n",
       "3501                 NaN            NaN                 NaN  ...   \n",
       "3533                 NaN            NaN                 NaN  ...   \n",
       "3553                 NaN            NaN                 NaN  ...   \n",
       "3569                 NaN            NaN                 NaN  ...   \n",
       "3572                 NaN            NaN                 NaN  ...   \n",
       "\n",
       "     goalkeeper_success_in_play ball_recovery_offensive dribble_no_touch  \\\n",
       "3501                        NaN                     NaN              NaN   \n",
       "3533                        NaN                     NaN              NaN   \n",
       "3553                        NaN                     NaN              NaN   \n",
       "3569                        NaN                     NaN              NaN   \n",
       "3572                        NaN                     NaN              NaN   \n",
       "\n",
       "     pass_miscommunication player_off_permanent  \\\n",
       "3501                   NaN                  NaN   \n",
       "3533                   NaN                  NaN   \n",
       "3553                   NaN                  NaN   \n",
       "3569                   NaN                  NaN   \n",
       "3572                   NaN                  NaN   \n",
       "\n",
       "      goalkeeper_penalty_saved_to_post goalkeeper_shot_saved_off_target  \\\n",
       "3501                               NaN                              NaN   \n",
       "3533                               NaN                              NaN   \n",
       "3553                               NaN                              NaN   \n",
       "3569                               NaN                              NaN   \n",
       "3572                               NaN                              NaN   \n",
       "\n",
       "     shot_follows_dribble shot_saved_off_target shot_redirect  \n",
       "3501                  NaN                   NaN           NaN  \n",
       "3533                  NaN                   NaN           NaN  \n",
       "3553                  NaN                   NaN           NaN  \n",
       "3569                  NaN                   NaN           NaN  \n",
       "3572                  NaN                   NaN           NaN  \n",
       "\n",
       "[5 rows x 114 columns]"
      ]
     },
     "execution_count": 70,
     "metadata": {},
     "output_type": "execute_result"
    }
   ],
   "source": [
    "rodri_events.head()"
   ]
  },
  {
   "cell_type": "code",
   "execution_count": 71,
   "id": "fe0c1c9d-44b8-4f8a-aeeb-edafa9a15268",
   "metadata": {},
   "outputs": [
    {
     "data": {
      "text/html": [
       "<div>\n",
       "<style scoped>\n",
       "    .dataframe tbody tr th:only-of-type {\n",
       "        vertical-align: middle;\n",
       "    }\n",
       "\n",
       "    .dataframe tbody tr th {\n",
       "        vertical-align: top;\n",
       "    }\n",
       "\n",
       "    .dataframe thead th {\n",
       "        text-align: right;\n",
       "    }\n",
       "</style>\n",
       "<table border=\"1\" class=\"dataframe\">\n",
       "  <thead>\n",
       "    <tr style=\"text-align: right;\">\n",
       "      <th></th>\n",
       "      <th>50_50</th>\n",
       "      <th>bad_behaviour_card</th>\n",
       "      <th>ball_receipt_outcome</th>\n",
       "      <th>block_deflection</th>\n",
       "      <th>block_save_block</th>\n",
       "      <th>carry_end_location</th>\n",
       "      <th>clearance_aerial_won</th>\n",
       "      <th>clearance_body_part</th>\n",
       "      <th>clearance_head</th>\n",
       "      <th>clearance_left_foot</th>\n",
       "      <th>...</th>\n",
       "      <th>goalkeeper_success_in_play</th>\n",
       "      <th>ball_recovery_offensive</th>\n",
       "      <th>dribble_no_touch</th>\n",
       "      <th>pass_miscommunication</th>\n",
       "      <th>player_off_permanent</th>\n",
       "      <th>goalkeeper_penalty_saved_to_post</th>\n",
       "      <th>goalkeeper_shot_saved_off_target</th>\n",
       "      <th>shot_follows_dribble</th>\n",
       "      <th>shot_saved_off_target</th>\n",
       "      <th>shot_redirect</th>\n",
       "    </tr>\n",
       "  </thead>\n",
       "  <tbody>\n",
       "    <tr>\n",
       "      <th>25</th>\n",
       "      <td>NaN</td>\n",
       "      <td>NaN</td>\n",
       "      <td>NaN</td>\n",
       "      <td>NaN</td>\n",
       "      <td>NaN</td>\n",
       "      <td>NaN</td>\n",
       "      <td>NaN</td>\n",
       "      <td>NaN</td>\n",
       "      <td>NaN</td>\n",
       "      <td>NaN</td>\n",
       "      <td>...</td>\n",
       "      <td>NaN</td>\n",
       "      <td>NaN</td>\n",
       "      <td>NaN</td>\n",
       "      <td>NaN</td>\n",
       "      <td>NaN</td>\n",
       "      <td>NaN</td>\n",
       "      <td>NaN</td>\n",
       "      <td>NaN</td>\n",
       "      <td>NaN</td>\n",
       "      <td>NaN</td>\n",
       "    </tr>\n",
       "    <tr>\n",
       "      <th>37</th>\n",
       "      <td>NaN</td>\n",
       "      <td>NaN</td>\n",
       "      <td>NaN</td>\n",
       "      <td>NaN</td>\n",
       "      <td>NaN</td>\n",
       "      <td>NaN</td>\n",
       "      <td>NaN</td>\n",
       "      <td>NaN</td>\n",
       "      <td>NaN</td>\n",
       "      <td>NaN</td>\n",
       "      <td>...</td>\n",
       "      <td>NaN</td>\n",
       "      <td>NaN</td>\n",
       "      <td>NaN</td>\n",
       "      <td>NaN</td>\n",
       "      <td>NaN</td>\n",
       "      <td>NaN</td>\n",
       "      <td>NaN</td>\n",
       "      <td>NaN</td>\n",
       "      <td>NaN</td>\n",
       "      <td>NaN</td>\n",
       "    </tr>\n",
       "    <tr>\n",
       "      <th>39</th>\n",
       "      <td>NaN</td>\n",
       "      <td>NaN</td>\n",
       "      <td>NaN</td>\n",
       "      <td>NaN</td>\n",
       "      <td>NaN</td>\n",
       "      <td>NaN</td>\n",
       "      <td>NaN</td>\n",
       "      <td>NaN</td>\n",
       "      <td>NaN</td>\n",
       "      <td>NaN</td>\n",
       "      <td>...</td>\n",
       "      <td>NaN</td>\n",
       "      <td>NaN</td>\n",
       "      <td>NaN</td>\n",
       "      <td>NaN</td>\n",
       "      <td>NaN</td>\n",
       "      <td>NaN</td>\n",
       "      <td>NaN</td>\n",
       "      <td>NaN</td>\n",
       "      <td>NaN</td>\n",
       "      <td>NaN</td>\n",
       "    </tr>\n",
       "    <tr>\n",
       "      <th>43</th>\n",
       "      <td>NaN</td>\n",
       "      <td>NaN</td>\n",
       "      <td>NaN</td>\n",
       "      <td>NaN</td>\n",
       "      <td>NaN</td>\n",
       "      <td>NaN</td>\n",
       "      <td>NaN</td>\n",
       "      <td>NaN</td>\n",
       "      <td>NaN</td>\n",
       "      <td>NaN</td>\n",
       "      <td>...</td>\n",
       "      <td>NaN</td>\n",
       "      <td>NaN</td>\n",
       "      <td>NaN</td>\n",
       "      <td>NaN</td>\n",
       "      <td>NaN</td>\n",
       "      <td>NaN</td>\n",
       "      <td>NaN</td>\n",
       "      <td>NaN</td>\n",
       "      <td>NaN</td>\n",
       "      <td>NaN</td>\n",
       "    </tr>\n",
       "    <tr>\n",
       "      <th>46</th>\n",
       "      <td>NaN</td>\n",
       "      <td>NaN</td>\n",
       "      <td>NaN</td>\n",
       "      <td>NaN</td>\n",
       "      <td>NaN</td>\n",
       "      <td>NaN</td>\n",
       "      <td>NaN</td>\n",
       "      <td>NaN</td>\n",
       "      <td>NaN</td>\n",
       "      <td>NaN</td>\n",
       "      <td>...</td>\n",
       "      <td>NaN</td>\n",
       "      <td>NaN</td>\n",
       "      <td>NaN</td>\n",
       "      <td>NaN</td>\n",
       "      <td>NaN</td>\n",
       "      <td>NaN</td>\n",
       "      <td>NaN</td>\n",
       "      <td>NaN</td>\n",
       "      <td>NaN</td>\n",
       "      <td>NaN</td>\n",
       "    </tr>\n",
       "  </tbody>\n",
       "</table>\n",
       "<p>5 rows × 114 columns</p>\n",
       "</div>"
      ],
      "text/plain": [
       "   50_50 bad_behaviour_card ball_receipt_outcome block_deflection  \\\n",
       "25   NaN                NaN                  NaN              NaN   \n",
       "37   NaN                NaN                  NaN              NaN   \n",
       "39   NaN                NaN                  NaN              NaN   \n",
       "43   NaN                NaN                  NaN              NaN   \n",
       "46   NaN                NaN                  NaN              NaN   \n",
       "\n",
       "   block_save_block carry_end_location clearance_aerial_won  \\\n",
       "25              NaN                NaN                  NaN   \n",
       "37              NaN                NaN                  NaN   \n",
       "39              NaN                NaN                  NaN   \n",
       "43              NaN                NaN                  NaN   \n",
       "46              NaN                NaN                  NaN   \n",
       "\n",
       "   clearance_body_part clearance_head clearance_left_foot  ...  \\\n",
       "25                 NaN            NaN                 NaN  ...   \n",
       "37                 NaN            NaN                 NaN  ...   \n",
       "39                 NaN            NaN                 NaN  ...   \n",
       "43                 NaN            NaN                 NaN  ...   \n",
       "46                 NaN            NaN                 NaN  ...   \n",
       "\n",
       "   goalkeeper_success_in_play ball_recovery_offensive dribble_no_touch  \\\n",
       "25                        NaN                     NaN              NaN   \n",
       "37                        NaN                     NaN              NaN   \n",
       "39                        NaN                     NaN              NaN   \n",
       "43                        NaN                     NaN              NaN   \n",
       "46                        NaN                     NaN              NaN   \n",
       "\n",
       "   pass_miscommunication player_off_permanent  \\\n",
       "25                   NaN                  NaN   \n",
       "37                   NaN                  NaN   \n",
       "39                   NaN                  NaN   \n",
       "43                   NaN                  NaN   \n",
       "46                   NaN                  NaN   \n",
       "\n",
       "    goalkeeper_penalty_saved_to_post goalkeeper_shot_saved_off_target  \\\n",
       "25                               NaN                              NaN   \n",
       "37                               NaN                              NaN   \n",
       "39                               NaN                              NaN   \n",
       "43                               NaN                              NaN   \n",
       "46                               NaN                              NaN   \n",
       "\n",
       "   shot_follows_dribble shot_saved_off_target shot_redirect  \n",
       "25                  NaN                   NaN           NaN  \n",
       "37                  NaN                   NaN           NaN  \n",
       "39                  NaN                   NaN           NaN  \n",
       "43                  NaN                   NaN           NaN  \n",
       "46                  NaN                   NaN           NaN  \n",
       "\n",
       "[5 rows x 114 columns]"
      ]
     },
     "execution_count": 71,
     "metadata": {},
     "output_type": "execute_result"
    }
   ],
   "source": [
    "rice_events.head()"
   ]
  },
  {
   "cell_type": "code",
   "execution_count": 74,
   "id": "ebbd1d34-1bf8-4116-b205-a4770eb278b6",
   "metadata": {},
   "outputs": [],
   "source": [
    "rodri_passes = rodri_events[rodri_events['type'] == 'Pass'].copy()\n",
    "\n",
    "rice_passes = rice_events[rice_events['type'] == 'Pass'].copy()"
   ]
  },
  {
   "cell_type": "code",
   "execution_count": 76,
   "id": "f6bf548a-7ee1-43b2-a9c6-780a3ea1b1e3",
   "metadata": {},
   "outputs": [
    {
     "data": {
      "text/plain": [
       "count              436\n",
       "unique             436\n",
       "top       [26.1, 60.7]\n",
       "freq                 1\n",
       "Name: pass_end_location, dtype: object"
      ]
     },
     "execution_count": 76,
     "metadata": {},
     "output_type": "execute_result"
    }
   ],
   "source": [
    "rodri_passes['pass_end_location'].describe()"
   ]
  },
  {
   "cell_type": "code",
   "execution_count": 78,
   "id": "e6c8fb94-e941-43c9-b341-f19214739fe9",
   "metadata": {},
   "outputs": [
    {
     "data": {
      "text/plain": [
       "count              536\n",
       "unique             535\n",
       "top       [45.9, 57.2]\n",
       "freq                 2\n",
       "Name: pass_end_location, dtype: object"
      ]
     },
     "execution_count": 78,
     "metadata": {},
     "output_type": "execute_result"
    }
   ],
   "source": [
    "rice_passes['pass_end_location'].describe()"
   ]
  },
  {
   "cell_type": "code",
   "execution_count": 79,
   "id": "7b17a838-8b57-4dcc-bf0f-541619a422b9",
   "metadata": {},
   "outputs": [
    {
     "data": {
      "text/html": [
       "<div>\n",
       "<style scoped>\n",
       "    .dataframe tbody tr th:only-of-type {\n",
       "        vertical-align: middle;\n",
       "    }\n",
       "\n",
       "    .dataframe tbody tr th {\n",
       "        vertical-align: top;\n",
       "    }\n",
       "\n",
       "    .dataframe thead th {\n",
       "        text-align: right;\n",
       "    }\n",
       "</style>\n",
       "<table border=\"1\" class=\"dataframe\">\n",
       "  <thead>\n",
       "    <tr style=\"text-align: right;\">\n",
       "      <th></th>\n",
       "      <th>match_id</th>\n",
       "      <th>Total_Passes</th>\n",
       "    </tr>\n",
       "  </thead>\n",
       "  <tbody>\n",
       "    <tr>\n",
       "      <th>0</th>\n",
       "      <td>3930160</td>\n",
       "      <td>63</td>\n",
       "    </tr>\n",
       "    <tr>\n",
       "      <th>1</th>\n",
       "      <td>3930172</td>\n",
       "      <td>95</td>\n",
       "    </tr>\n",
       "    <tr>\n",
       "      <th>2</th>\n",
       "      <td>3941018</td>\n",
       "      <td>117</td>\n",
       "    </tr>\n",
       "    <tr>\n",
       "      <th>3</th>\n",
       "      <td>3942226</td>\n",
       "      <td>73</td>\n",
       "    </tr>\n",
       "    <tr>\n",
       "      <th>4</th>\n",
       "      <td>3942752</td>\n",
       "      <td>56</td>\n",
       "    </tr>\n",
       "    <tr>\n",
       "      <th>5</th>\n",
       "      <td>3943043</td>\n",
       "      <td>32</td>\n",
       "    </tr>\n",
       "  </tbody>\n",
       "</table>\n",
       "</div>"
      ],
      "text/plain": [
       "   match_id  Total_Passes\n",
       "0   3930160            63\n",
       "1   3930172            95\n",
       "2   3941018           117\n",
       "3   3942226            73\n",
       "4   3942752            56\n",
       "5   3943043            32"
      ]
     },
     "execution_count": 79,
     "metadata": {},
     "output_type": "execute_result"
    }
   ],
   "source": [
    "df_rodri_passes_por_partido = (\n",
    "    rodri_passes.groupby('match_id')\n",
    "    .size()\n",
    "    .reset_index(name='Total_Passes')\n",
    ")\n",
    "\n",
    "df_rodri_passes_por_partido.head(10)"
   ]
  },
  {
   "cell_type": "code",
   "execution_count": 80,
   "id": "4441dedd-0188-406a-a0e1-669b0124aae1",
   "metadata": {},
   "outputs": [
    {
     "data": {
      "text/html": [
       "<div>\n",
       "<style scoped>\n",
       "    .dataframe tbody tr th:only-of-type {\n",
       "        vertical-align: middle;\n",
       "    }\n",
       "\n",
       "    .dataframe tbody tr th {\n",
       "        vertical-align: top;\n",
       "    }\n",
       "\n",
       "    .dataframe thead th {\n",
       "        text-align: right;\n",
       "    }\n",
       "</style>\n",
       "<table border=\"1\" class=\"dataframe\">\n",
       "  <thead>\n",
       "    <tr style=\"text-align: right;\">\n",
       "      <th></th>\n",
       "      <th>match_id</th>\n",
       "      <th>Total_Passes</th>\n",
       "    </tr>\n",
       "  </thead>\n",
       "  <tbody>\n",
       "    <tr>\n",
       "      <th>0</th>\n",
       "      <td>3930163</td>\n",
       "      <td>82</td>\n",
       "    </tr>\n",
       "    <tr>\n",
       "      <th>1</th>\n",
       "      <td>3930171</td>\n",
       "      <td>66</td>\n",
       "    </tr>\n",
       "    <tr>\n",
       "      <th>2</th>\n",
       "      <td>3930181</td>\n",
       "      <td>60</td>\n",
       "    </tr>\n",
       "    <tr>\n",
       "      <th>3</th>\n",
       "      <td>3941017</td>\n",
       "      <td>93</td>\n",
       "    </tr>\n",
       "    <tr>\n",
       "      <th>4</th>\n",
       "      <td>3942227</td>\n",
       "      <td>98</td>\n",
       "    </tr>\n",
       "    <tr>\n",
       "      <th>5</th>\n",
       "      <td>3942819</td>\n",
       "      <td>95</td>\n",
       "    </tr>\n",
       "    <tr>\n",
       "      <th>6</th>\n",
       "      <td>3943043</td>\n",
       "      <td>42</td>\n",
       "    </tr>\n",
       "  </tbody>\n",
       "</table>\n",
       "</div>"
      ],
      "text/plain": [
       "   match_id  Total_Passes\n",
       "0   3930163            82\n",
       "1   3930171            66\n",
       "2   3930181            60\n",
       "3   3941017            93\n",
       "4   3942227            98\n",
       "5   3942819            95\n",
       "6   3943043            42"
      ]
     },
     "execution_count": 80,
     "metadata": {},
     "output_type": "execute_result"
    }
   ],
   "source": [
    "df_rice_passes_por_partido = (\n",
    "    rice_passes.groupby('match_id')\n",
    "    .size()\n",
    "    .reset_index(name='Total_Passes')\n",
    ")\n",
    "\n",
    "df_rice_passes_por_partido.head(10)"
   ]
  },
  {
   "cell_type": "markdown",
   "id": "4330e65c-48ca-4944-947b-af39928e45c3",
   "metadata": {},
   "source": [
    "## We can see that Rodri played 6 matches and Rice played 7 matches. Therefore, we will standardize the metrics per 90 minutes played."
   ]
  },
  {
   "cell_type": "code",
   "execution_count": 85,
   "id": "b5e3825a-89d5-41ee-b90b-b9cdee6624fe",
   "metadata": {},
   "outputs": [],
   "source": [
    "# PROGRESSIVE PASSES\n",
    "\n",
    "MINUTES_PLAYED_RODRI = 540.0 \n",
    "P90_FACTOR_RODRI = 90.0 / MINUTES_PLAYED_RODRI\n",
    "\n",
    "MINUTES_PLAYED_RICE = 630.0 \n",
    "P90_FACTOR_RICE = 90.0 / MINUTES_PLAYED_RICE\n",
    "\n",
    "def is_progressive_pass(row):\n",
    "    if not isinstance(row['pass_end_location'], list) or not isinstance(row['location'], list):\n",
    "        return False\n",
    "    if len(row['location']) < 2 or len(row['pass_end_location']) < 1:\n",
    "        return False\n",
    "    return row['pass_end_location'][0] - row['location'][0] >= 10"
   ]
  },
  {
   "cell_type": "code",
   "execution_count": 86,
   "id": "5ed1b0e8-5135-4533-9e08-46e12d63a086",
   "metadata": {},
   "outputs": [
    {
     "name": "stdout",
     "output_type": "stream",
     "text": [
      "  Total Progressive Passes: 108\n",
      "  Progressive Passes P90: 18.00\n"
     ]
    }
   ],
   "source": [
    "rodri_progressive_passes = rodri_passes[rodri_passes.apply(is_progressive_pass, axis=1)]\n",
    "rodri_progressive = len(rodri_progressive_passes)\n",
    "rodri_progressive_p90 = rodri_progressive * P90_FACTOR_RODRI\n",
    "\n",
    "print(f\"  Total Progressive Passes: {rodri_progressive}\")\n",
    "print(f\"  Progressive Passes P90: {rodri_progressive_p90:.2f}\")"
   ]
  },
  {
   "cell_type": "code",
   "execution_count": 87,
   "id": "25f1dbd2-236e-4d82-bda7-c97f1a43c7cc",
   "metadata": {},
   "outputs": [
    {
     "name": "stdout",
     "output_type": "stream",
     "text": [
      "  Total Progressive Passes: 121\n",
      "  Progressive Passes P90: 17.29\n"
     ]
    }
   ],
   "source": [
    "rice_progressive_passes = rice_passes[rice_passes.apply(is_progressive_pass, axis=1)]\n",
    "rice_progressive = len(rice_progressive_passes)\n",
    "rice_progressive_p90 = rice_progressive * P90_FACTOR_RICE\n",
    "\n",
    "print(f\"  Total Progressive Passes: {rice_progressive}\")\n",
    "print(f\"  Progressive Passes P90: {rice_progressive_p90:.2f}\")"
   ]
  },
  {
   "cell_type": "code",
   "execution_count": 88,
   "id": "2e163053-8d40-4b7e-96b7-137ba4fb0873",
   "metadata": {},
   "outputs": [
    {
     "name": "stdout",
     "output_type": "stream",
     "text": [
      "  Total Passes: 436\n",
      "  Successful Passes: 411\n",
      "  Pass Accuracy: 94.27%\n",
      "  Passes P90: 72.67\n",
      "  Successful Passes P90: 68.50\n"
     ]
    }
   ],
   "source": [
    "# ACCURACY PASSES\n",
    "\n",
    "rodri_successful_passes = rodri_passes[rodri_passes['pass_outcome'].isna()]\n",
    "\n",
    "total_rodri_passes = len(rodri_passes)\n",
    "successful_rodri_passes = len(rodri_successful_passes)\n",
    "\n",
    "rodri_pass_accuracy = (successful_rodri_passes / total_rodri_passes) * 100\n",
    "rodri_total_passes_p90 = total_rodri_passes * P90_FACTOR_RODRI\n",
    "rodri_successful_passes_p90 = successful_rodri_passes * P90_FACTOR_RODRI\n",
    "\n",
    "print(f\"  Total Passes: {total_rodri_passes}\")\n",
    "print(f\"  Successful Passes: {successful_rodri_passes}\")\n",
    "print(f\"  Pass Accuracy: {rodri_pass_accuracy:.2f}%\")\n",
    "print(f\"  Passes P90: {rodri_total_passes_p90:.2f}\")\n",
    "print(f\"  Successful Passes P90: {rodri_successful_passes_p90:.2f}\")"
   ]
  },
  {
   "cell_type": "code",
   "execution_count": 93,
   "id": "ef1cabdb-5a93-4976-af2f-7616ad59f8fb",
   "metadata": {},
   "outputs": [
    {
     "name": "stdout",
     "output_type": "stream",
     "text": [
      "  Total Passes: 536\n",
      "  Successful Passes: 488\n",
      "  Pass Accuracy: 91.04%\n",
      "  Passes P90: 76.57\n",
      "  Successful Passes P90: 69.71\n"
     ]
    }
   ],
   "source": [
    "rice_successful_passes = rice_passes[rice_passes['pass_outcome'].isna()]\n",
    "\n",
    "total_rice_passes = len(rice_passes)\n",
    "successful_rice_passes = len(rice_successful_passes)\n",
    "\n",
    "rice_pass_accuracy = (successful_rice_passes / total_rice_passes) * 100\n",
    "rice_total_passes_p90 = total_rice_passes * P90_FACTOR_RICE\n",
    "rice_successful_passes_p90 = successful_rice_passes * P90_FACTOR_RICE\n",
    "\n",
    "print(f\"  Total Passes: {total_rice_passes}\")\n",
    "print(f\"  Successful Passes: {successful_rice_passes}\")\n",
    "print(f\"  Pass Accuracy: {rice_pass_accuracy:.2f}%\")\n",
    "print(f\"  Passes P90: {rice_total_passes_p90:.2f}\")\n",
    "print(f\"  Successful Passes P90: {rice_successful_passes_p90:.2f}\")"
   ]
  },
  {
   "cell_type": "code",
   "execution_count": 95,
   "id": "cf96ec58-2f53-4f3c-bd84-0daad381d72b",
   "metadata": {},
   "outputs": [],
   "source": [
    "# PASSES TO FINAL THIRD\n",
    "\n",
    "def ends_in_final_third(row):\n",
    "    if not isinstance(row['pass_end_location'], list) or len(row['pass_end_location']) < 1:\n",
    "        return False\n",
    "    return row['pass_end_location'][0] > 80"
   ]
  },
  {
   "cell_type": "code",
   "execution_count": 97,
   "id": "fc12005b-d7a6-4f76-a2eb-636e6b282f97",
   "metadata": {},
   "outputs": [
    {
     "name": "stdout",
     "output_type": "stream",
     "text": [
      "  Total Passes to Final Third: 107\n",
      "  Passes to Final Third P90: 17.83\n"
     ]
    }
   ],
   "source": [
    "rodri_passes_to_final_third = rodri_passes[rodri_passes.apply(ends_in_final_third, axis=1)]\n",
    "\n",
    "rodri_final_third = len(rodri_passes_to_final_third)\n",
    "rodri_final_third_p90 = rodri_final_third * P90_FACTOR_RODRI\n",
    "\n",
    "print(f\"  Total Passes to Final Third: {rodri_final_third}\")\n",
    "print(f\"  Passes to Final Third P90: {rodri_final_third_p90:.2f}\")"
   ]
  },
  {
   "cell_type": "code",
   "execution_count": 99,
   "id": "d7c9baaa-c461-459a-aaba-ecadb66c0a10",
   "metadata": {},
   "outputs": [
    {
     "name": "stdout",
     "output_type": "stream",
     "text": [
      "  Total Passes to Final Third: 138\n",
      "  Passes to Final Third P90: 19.71\n"
     ]
    }
   ],
   "source": [
    "rice_passes_to_final_third = rice_passes[rice_passes.apply(ends_in_final_third, axis=1)]\n",
    "\n",
    "rice_final_third = len(rice_passes_to_final_third)\n",
    "rice_final_third_p90 = rice_final_third * P90_FACTOR_RICE\n",
    "\n",
    "print(f\"  Total Passes to Final Third: {rice_final_third}\")\n",
    "print(f\"  Passes to Final Third P90: {rice_final_third_p90:.2f}\")"
   ]
  },
  {
   "cell_type": "code",
   "execution_count": 101,
   "id": "2321893b-9f06-4642-b455-bffaecefafe9",
   "metadata": {},
   "outputs": [
    {
     "name": "stdout",
     "output_type": "stream",
     "text": [
      "  Total Pressures: 89\n",
      "  Pressures P90: 14.83\n"
     ]
    }
   ],
   "source": [
    "# PRESSURES\n",
    "\n",
    "rodri_pressures = rodri_events[rodri_events['type'] == 'Pressure']\n",
    "\n",
    "rodri_pressures = len(rodri_pressures)\n",
    "rodri_pressures_p90 = rodri_pressures * P90_FACTOR_RODRI\n",
    "\n",
    "print(f\"  Total Pressures: {rodri_pressures}\")\n",
    "print(f\"  Pressures P90: {rodri_pressures_p90:.2f}\")"
   ]
  },
  {
   "cell_type": "code",
   "execution_count": 103,
   "id": "7064d4e7-f430-432f-a496-86ef544a3dd9",
   "metadata": {},
   "outputs": [
    {
     "name": "stdout",
     "output_type": "stream",
     "text": [
      "  Total Pressures: 82\n",
      "  Pressures P90: 11.71\n"
     ]
    }
   ],
   "source": [
    "rice_pressures = rice_events[rice_events['type'] == 'Pressure']\n",
    "\n",
    "rice_pressures = len(rice_pressures)\n",
    "rice_pressures_p90 = rice_pressures * P90_FACTOR_RICE\n",
    "\n",
    "print(f\"  Total Pressures: {rice_pressures}\")\n",
    "print(f\"  Pressures P90: {rice_pressures_p90:.2f}\")"
   ]
  },
  {
   "cell_type": "code",
   "execution_count": 105,
   "id": "a720071c-bf01-4b2e-8443-fd068bb71247",
   "metadata": {},
   "outputs": [
    {
     "name": "stdout",
     "output_type": "stream",
     "text": [
      "['Pass' 'Ball Receipt*' 'Carry' 'Pressure' 'Block' 'Duel' 'Ball Recovery'\n",
      " 'Clearance' 'Dribbled Past' 'Foul Committed' 'Substitution' 'Dribble'\n",
      " 'Interception' '50/50' 'Miscontrol' 'Foul Won' 'Shot' 'Injury Stoppage'\n",
      " 'Dispossessed' 'Bad Behaviour']\n",
      "[nan 'Lost In Play' 'Won' 'Success In Play']\n",
      "[nan 'Tackle' 'Aerial Lost']\n"
     ]
    }
   ],
   "source": [
    "# SUCCESSFUL TACKLES\n",
    "\n",
    "print(rodri_events['type'].unique())\n",
    "print(rodri_events['duel_outcome'].unique())\n",
    "print(rodri_events['duel_type'].unique())"
   ]
  },
  {
   "cell_type": "code",
   "execution_count": 107,
   "id": "58722da2-8a98-4b9d-b809-6e843704986f",
   "metadata": {},
   "outputs": [
    {
     "name": "stdout",
     "output_type": "stream",
     "text": [
      "  Total Succesfil Tackles: 8\n",
      "  Succesfil Tackles P90: 1.33\n"
     ]
    }
   ],
   "source": [
    "rodri_tackles_success = rodri_events[\n",
    "    (rodri_events['type'] == 'Duel') & \n",
    "    (rodri_events['duel_type'] == 'Tackle') & \n",
    "    (rodri_events['duel_outcome'].isin(['Won', 'Success In Play']))\n",
    "]\n",
    "\n",
    "rodri_tackles = len(rodri_tackles_success)\n",
    "rodri_tackles_p90 = rodri_tackles * P90_FACTOR_RODRI\n",
    "\n",
    "print(f\"  Total Succesfil Tackles: {rodri_tackles}\")\n",
    "print(f\"  Succesfil Tackles P90: {rodri_tackles_p90:.2f}\")"
   ]
  },
  {
   "cell_type": "code",
   "execution_count": 108,
   "id": "08c53f21-64ca-4475-8d2e-4cb6c9545659",
   "metadata": {},
   "outputs": [
    {
     "name": "stdout",
     "output_type": "stream",
     "text": [
      "  Total Succesfil Tackles: 9\n",
      "  Succesfil Tackles P90: 1.29\n"
     ]
    }
   ],
   "source": [
    "rice_tackles_success = rice_events[\n",
    "    (rice_events['type'] == 'Duel') & \n",
    "    (rice_events['duel_type'] == 'Tackle') & \n",
    "    (rice_events['duel_outcome'].isin(['Won', 'Success In Play']))\n",
    "]\n",
    "\n",
    "rice_tackles = len(rice_tackles_success)\n",
    "rice_tackles_p90 = rice_tackles * P90_FACTOR_RICE\n",
    "\n",
    "print(f\"  Total Succesfil Tackles: {rice_tackles}\")\n",
    "print(f\"  Succesfil Tackles P90: {rice_tackles_p90:.2f}\")"
   ]
  },
  {
   "cell_type": "code",
   "execution_count": 109,
   "id": "49dc2c20-5939-42cf-bbe8-dcc28507325e",
   "metadata": {},
   "outputs": [
    {
     "name": "stdout",
     "output_type": "stream",
     "text": [
      "  Total Ball Recoveries: 28\n",
      "  Ball Recoveries P90: 4.67\n"
     ]
    }
   ],
   "source": [
    "# BALL RECOVERY \n",
    "\n",
    "rodri_recoveries = rodri_events[rodri_events['type'] == 'Ball Recovery']\n",
    "\n",
    "rodri_recoveries = len(rodri_recoveries)\n",
    "rodri_recoveries_p90 = rodri_recoveries * P90_FACTOR_RODRI\n",
    "\n",
    "print(f\"  Total Ball Recoveries: {rodri_recoveries}\")\n",
    "print(f\"  Ball Recoveries P90: {rodri_recoveries_p90:.2f}\")"
   ]
  },
  {
   "cell_type": "code",
   "execution_count": 113,
   "id": "94e29a76-deb3-46a1-8631-3c98e3b1fb8c",
   "metadata": {},
   "outputs": [
    {
     "name": "stdout",
     "output_type": "stream",
     "text": [
      "  Total Ball Recoveries: 40\n",
      "  Ball Recoveries P90: 5.71\n"
     ]
    }
   ],
   "source": [
    "rice_recoveries = rice_events[rice_events['type'] == 'Ball Recovery']\n",
    "\n",
    "rice_recoveries = len(rice_recoveries)\n",
    "rice_recoveries_p90 = rice_recoveries * P90_FACTOR_RICE\n",
    "\n",
    "print(f\"  Total Ball Recoveries: {rice_recoveries}\")\n",
    "print(f\"  Ball Recoveries P90: {rice_recoveries_p90:.2f}\")"
   ]
  },
  {
   "cell_type": "code",
   "execution_count": 114,
   "id": "fb30e48e-30fa-41f3-a1d8-a332a1db92e9",
   "metadata": {},
   "outputs": [
    {
     "name": "stdout",
     "output_type": "stream",
     "text": [
      "  Total Interceptions: 3\n",
      "  Interceptions P90: 0.50\n"
     ]
    }
   ],
   "source": [
    "# INTERCEPTIONS\n",
    "\n",
    "rodri_interceptions = rodri_events[rodri_events['type'] == 'Interception']\n",
    "\n",
    "rodri_interceptions = len(rodri_interceptions)\n",
    "rodri_interceptions_p90 = rodri_interceptions * P90_FACTOR_RODRI\n",
    "\n",
    "print(f\"  Total Interceptions: {rodri_interceptions}\")\n",
    "print(f\"  Interceptions P90: {rodri_interceptions_p90:.2f}\")"
   ]
  },
  {
   "cell_type": "code",
   "execution_count": 115,
   "id": "fac1e385-05fa-4eed-82a5-831b83a82d2a",
   "metadata": {},
   "outputs": [
    {
     "name": "stdout",
     "output_type": "stream",
     "text": [
      "  Total Interceptions: 8\n",
      "  Interceptions P90: 1.14\n"
     ]
    }
   ],
   "source": [
    "rice_interceptions = rice_events[rice_events['type'] == 'Interception']\n",
    "\n",
    "rice_interceptions = len(rice_interceptions)\n",
    "rice_interceptions_p90 = rice_interceptions * P90_FACTOR_RICE\n",
    "\n",
    "print(f\"  Total Interceptions: {rice_interceptions}\")\n",
    "print(f\"  Interceptions P90: {rice_interceptions_p90:.2f}\")"
   ]
  },
  {
   "cell_type": "code",
   "execution_count": 119,
   "id": "864d35b4-8213-476f-b2af-4e62ca4f5cac",
   "metadata": {},
   "outputs": [],
   "source": [
    "# PROGRESSIVE CARRIES\n",
    "\n",
    "def is_progressive_carry(row):\n",
    "    if not isinstance(row['carry_end_location'], list) or not isinstance(row['location'], list):\n",
    "        return False\n",
    "    if len(row['location']) < 2 or len(row['carry_end_location']) < 1:\n",
    "        return False\n",
    "    return row['carry_end_location'][0] - row['location'][0] >= 10"
   ]
  },
  {
   "cell_type": "code",
   "execution_count": 120,
   "id": "cfb3ee25-da71-45af-a5e1-55cb14a24f99",
   "metadata": {},
   "outputs": [],
   "source": [
    "rodri_carries = rodri_events[rodri_events['type'] == 'Carry'].copy()\n",
    "rice_carries = rice_events[rice_events['type'] == 'Carry'].copy()"
   ]
  },
  {
   "cell_type": "code",
   "execution_count": 121,
   "id": "f3898f24-b12f-4caa-8938-f996e9c8a7bf",
   "metadata": {},
   "outputs": [
    {
     "name": "stdout",
     "output_type": "stream",
     "text": [
      "  Total Progressive Carries: 24\n",
      "  Progressive Carries P90: 4.00\n"
     ]
    }
   ],
   "source": [
    "rodri_progressive = rodri_carries.apply(is_progressive_carry, axis=1)\n",
    "rodri_progressive_carries = rodri_carries[rodri_progressive]\n",
    "\n",
    "rodri_carries = len(rodri_progressive_carries)\n",
    "rodri_carries_p90 = rodri_carries * P90_FACTOR_RODRI\n",
    "\n",
    "print(f\"  Total Progressive Carries: {rodri_carries}\")\n",
    "print(f\"  Progressive Carries P90: {rodri_carries_p90:.2f}\")"
   ]
  },
  {
   "cell_type": "code",
   "execution_count": 122,
   "id": "59b85f01-c71e-4561-aca5-d7d119509597",
   "metadata": {},
   "outputs": [
    {
     "name": "stdout",
     "output_type": "stream",
     "text": [
      "  Total Progressive Carries: 28\n",
      "  Progressive Carries P90: 4.00\n"
     ]
    }
   ],
   "source": [
    "rice_progressive = rice_carries.apply(is_progressive_carry, axis=1)\n",
    "rice_progressive_carries = rice_carries[rice_progressive]\n",
    "\n",
    "rice_carries = len(rice_progressive_carries)\n",
    "rice_carries_p90 = rice_carries * P90_FACTOR_RICE\n",
    "\n",
    "print(f\"  Total Progressive Carries: {rice_carries}\")\n",
    "print(f\"  Progressive Carries P90: {rice_carries_p90:.2f}\")"
   ]
  },
  {
   "cell_type": "code",
   "execution_count": 123,
   "id": "cf3a109c-7edb-4c07-bd6c-f17f4f7b26eb",
   "metadata": {},
   "outputs": [
    {
     "name": "stdout",
     "output_type": "stream",
     "text": [
      "Rodri Total Key Passes: 6\n",
      "Rodri Key Passes P90: 1.00\n",
      "Rice Total Key Passes: 3\n",
      "Rice Key Passes P90: 0.43\n"
     ]
    }
   ],
   "source": [
    "# KEY PASSES\n",
    "\n",
    "rodri_key_passes = rodri_passes[rodri_passes['pass_shot_assist'] == True]\n",
    "rice_key_passes = rice_passes[rice_passes['pass_shot_assist'] == True]\n",
    "\n",
    "rodri_key_passes_total = len(rodri_key_passes)\n",
    "rice_key_passes_total = len(rice_key_passes)\n",
    "\n",
    "rodri_key_passes_p90 = len(rodri_key_passes) * P90_FACTOR_RODRI\n",
    "rice_key_passes_p90 = len(rice_key_passes) * P90_FACTOR_RICE\n",
    "\n",
    "print(f\"Rodri Total Key Passes: {rodri_key_passes_total}\")\n",
    "print(f\"Rodri Key Passes P90: {rodri_key_passes_p90:.2f}\")\n",
    "print(f\"Rice Total Key Passes: {rice_key_passes_total}\")\n",
    "print(f\"Rice Key Passes P90: {rice_key_passes_p90:.2f}\")"
   ]
  },
  {
   "cell_type": "code",
   "execution_count": 124,
   "id": "5171ffe5-12b5-46bb-8e9d-e2dc91192445",
   "metadata": {},
   "outputs": [
    {
     "name": "stdout",
     "output_type": "stream",
     "text": [
      "Rodri % Key Passes: 1.38%\n",
      "Rice % Key Passes: 0.56%\n"
     ]
    }
   ],
   "source": [
    "# % KEY PASSES\n",
    "\n",
    "rodri_key_passes_perct = (len(rodri_key_passes) / len(rodri_passes)) * 100\n",
    "\n",
    "rice_key_passes_perct = (len(rice_key_passes) / len(rice_passes)) * 100\n",
    "\n",
    "print(f\"Rodri % Key Passes: {rodri_key_passes_perct:.2f}%\")\n",
    "print(f\"Rice % Key Passes: {rice_key_passes_perct:.2f}%\")"
   ]
  },
  {
   "cell_type": "code",
   "execution_count": 131,
   "id": "ad9389fd-a69c-46f6-962e-9c7dbe56b1c2",
   "metadata": {},
   "outputs": [
    {
     "name": "stdout",
     "output_type": "stream",
     "text": [
      "Rodri Total pass through ball: 0\n",
      "Rodri Pass through ball P90: 0.00\n",
      "Rice Total pass through ball: 2\n",
      "Rice Pass through ball P90: 0.29\n"
     ]
    }
   ],
   "source": [
    "# PASSES THROUGH BALL\n",
    "\n",
    "rodri_pass_through_ball = rodri_passes[rodri_passes['pass_through_ball'] == True]\n",
    "rice_pass_through_ball = rice_passes[rice_passes['pass_through_ball'] == True]\n",
    "\n",
    "rodri_through_ball_p90 = len(rodri_pass_through_ball) * P90_FACTOR_RODRI\n",
    "rice_through_ball_p90 = len(rice_pass_through_ball) * P90_FACTOR_RICE\n",
    "\n",
    "print(f\"Rodri Total pass through ball: {len(rodri_pass_through_ball)}\")\n",
    "print(f\"Rodri Pass through ball P90: {rodri_through_ball_p90:.2f}\")\n",
    "print(f\"Rice Total pass through ball: {len(rice_pass_through_ball)}\")\n",
    "print(f\"Rice Pass through ball P90: {rice_through_ball_p90:.2f}\")"
   ]
  },
  {
   "cell_type": "code",
   "execution_count": 132,
   "id": "fe75e76a-62de-4b3e-833f-b2172fa7d27e",
   "metadata": {},
   "outputs": [],
   "source": [
    "# SHOTS\n",
    "\n",
    "rodri_shots = rodri_events[rodri_events['type'] == 'Shot'].copy()\n",
    "\n",
    "rice_shots = rice_events[rice_events['type'] == 'Shot'].copy()"
   ]
  },
  {
   "cell_type": "code",
   "execution_count": 133,
   "id": "4130a132-6098-4b38-bf43-bc4ab8356d7d",
   "metadata": {},
   "outputs": [
    {
     "name": "stdout",
     "output_type": "stream",
     "text": [
      "  Total Shots: 5\n",
      "  Successful Shots: 0\n",
      "  Shots Accuracy: 0.00%\n",
      "  Shots P90: 0.83\n",
      "  Successful Shots P90: 0.00\n"
     ]
    }
   ],
   "source": [
    "# TOTAL SHOTS AND SUCCESSFUL SHOTS\n",
    "\n",
    "rodri_successful_shots = rodri_shots[rodri_shots['shot_outcome'].isna()]\n",
    "\n",
    "total_rodri_shots = len(rodri_shots)\n",
    "successful_rodri_shots = len(rodri_successful_shots)\n",
    "\n",
    "rodri_shot_accuracy = (successful_rodri_shots / total_rodri_shots) * 100\n",
    "rodri_total_shots_p90 = total_rodri_shots * P90_FACTOR_RODRI\n",
    "rodri_successful_shots_p90 = successful_rodri_shots * P90_FACTOR_RODRI\n",
    "\n",
    "print(f\"  Total Shots: {total_rodri_shots}\")\n",
    "print(f\"  Successful Shots: {successful_rodri_shots}\")\n",
    "print(f\"  Shots Accuracy: {rodri_shot_accuracy:.2f}%\")\n",
    "print(f\"  Shots P90: {rodri_total_shots_p90:.2f}\")\n",
    "print(f\"  Successful Shots P90: {rodri_successful_shots_p90:.2f}\")"
   ]
  },
  {
   "cell_type": "code",
   "execution_count": 134,
   "id": "b8786e63-f9f6-4645-991f-24c88f96400b",
   "metadata": {},
   "outputs": [
    {
     "name": "stdout",
     "output_type": "stream",
     "text": [
      "  Total Shots: 9\n",
      "  Successful Shots: 0\n",
      "  Shots Accuracy: 0.00%\n",
      "  Shots P90: 1.29\n",
      "  Successful Shots P90: 0.00\n"
     ]
    }
   ],
   "source": [
    "rice_successful_shots = rice_shots[rice_shots['shot_outcome'].isna()]\n",
    "\n",
    "total_rice_shots = len(rice_shots)\n",
    "successful_rice_shots = len(rice_successful_shots)\n",
    "\n",
    "rice_shot_accuracy = (successful_rice_shots / total_rice_shots) * 100\n",
    "rice_total_shots_p90 = total_rice_shots * P90_FACTOR_RICE\n",
    "rice_successful_shots_p90 = successful_rice_shots * P90_FACTOR_RICE\n",
    "\n",
    "print(f\"  Total Shots: {total_rice_shots}\")\n",
    "print(f\"  Successful Shots: {successful_rice_shots}\")\n",
    "print(f\"  Shots Accuracy: {rice_shot_accuracy:.2f}%\")\n",
    "print(f\"  Shots P90: {rice_total_shots_p90:.2f}\")\n",
    "print(f\"  Successful Shots P90: {rice_successful_shots_p90:.2f}\")"
   ]
  },
  {
   "cell_type": "code",
   "execution_count": 139,
   "id": "058d1bca-6a97-419c-b908-315f501db18d",
   "metadata": {},
   "outputs": [
    {
     "data": {
      "text/plain": [
       "array([nan], dtype=object)"
      ]
     },
     "execution_count": 139,
     "metadata": {},
     "output_type": "execute_result"
    }
   ],
   "source": [
    "rodri_events['block_save_block'].unique()"
   ]
  },
  {
   "cell_type": "code",
   "execution_count": 140,
   "id": "583aef26-540e-4435-a011-c884b97cbd6e",
   "metadata": {},
   "outputs": [
    {
     "data": {
      "text/plain": [
       "array([nan], dtype=object)"
      ]
     },
     "execution_count": 140,
     "metadata": {},
     "output_type": "execute_result"
    }
   ],
   "source": [
    "rice_events['block_save_block'].unique()"
   ]
  },
  {
   "cell_type": "code",
   "execution_count": 141,
   "id": "228b97d2-616e-407e-99ae-76d3157ed6b5",
   "metadata": {},
   "outputs": [
    {
     "data": {
      "text/plain": [
       "array(['Pass', 'Ball Receipt*', 'Carry', 'Pressure', 'Block', 'Duel',\n",
       "       'Ball Recovery', 'Clearance', 'Dribbled Past', 'Foul Committed',\n",
       "       'Substitution', 'Dribble', 'Interception', '50/50', 'Miscontrol',\n",
       "       'Foul Won', 'Shot', 'Injury Stoppage', 'Dispossessed',\n",
       "       'Bad Behaviour'], dtype=object)"
      ]
     },
     "execution_count": 141,
     "metadata": {},
     "output_type": "execute_result"
    }
   ],
   "source": [
    "rodri_events['type'].unique()"
   ]
  },
  {
   "cell_type": "code",
   "execution_count": 142,
   "id": "1acc371d-09f1-4d45-8498-ca85f6697290",
   "metadata": {},
   "outputs": [
    {
     "name": "stdout",
     "output_type": "stream",
     "text": [
      "Rodri Total Fouls: 8\n",
      "Rodri Fouls P90: 1.33\n",
      "Rice Total Fouls: 8\n",
      "Rice Fouls P90: 1.14\n"
     ]
    }
   ],
   "source": [
    "# FOULS\n",
    "\n",
    "rodri_fouls = rodri_events[rodri_events['type'] == 'Foul Committed'].copy()\n",
    "\n",
    "rodri_total_fouls = len(rodri_fouls)\n",
    "rodri_fouls_p90 = rodri_total_fouls * P90_FACTOR_RODRI\n",
    "\n",
    "rice_fouls = rice_events[rice_events['type'] == 'Foul Committed'].copy()\n",
    "\n",
    "rice_total_fouls = len(rice_fouls)\n",
    "rice_fouls_p90 = rice_total_fouls * P90_FACTOR_RICE\n",
    "\n",
    "print(f\"Rodri Total Fouls: {rodri_total_fouls}\")\n",
    "print(f\"Rodri Fouls P90: {rodri_fouls_p90:.2f}\")\n",
    "print(f\"Rice Total Fouls: {rice_total_fouls}\")\n",
    "print(f\"Rice Fouls P90: {rice_fouls_p90:.2f}\")"
   ]
  },
  {
   "cell_type": "code",
   "execution_count": 143,
   "id": "23f3474b-8a9c-445d-869b-06207f9e2260",
   "metadata": {},
   "outputs": [],
   "source": [
    "rodri_data_p90 = {\n",
    "    'Player': 'Rodri Hernández',\n",
    "    'Shots P90': rodri_total_shots_p90,\n",
    "    'Progressive Passes P90': rodri_progressive_p90,\n",
    "    'Total Passes P90': rodri_total_passes_p90,\n",
    "    'Successful Passes P90': rodri_successful_passes_p90,\n",
    "    'Pass Accuracy (%)': rodri_pass_accuracy,\n",
    "    'Passes to Final Third P90': rodri_final_third_p90,\n",
    "    'Key Passes P90': rodri_key_passes_p90,\n",
    "    'Key Passes (%)': rodri_key_passes_perct,\n",
    "    'Pressures P90': rodri_pressures_p90,\n",
    "    'Successful Tackles P90': rodri_tackles_p90,\n",
    "    'Interceptions P90': rodri_interceptions_p90,\n",
    "    'Ball Recoveries P90': rodri_recoveries_p90,\n",
    "    'Progressive Carries P90': rodri_carries_p90,\n",
    "    'Fouls Committed P90': rodri_fouls_p90\n",
    "}\n",
    "\n",
    "\n",
    "rice_data_p90 = {\n",
    "    'Player': 'Declan Rice',\n",
    "    'Shots P90': rice_total_shots_p90,\n",
    "    'Progressive Passes P90': rice_progressive_p90,\n",
    "    'Total Passes P90': rice_total_passes_p90,\n",
    "    'Successful Passes P90': rice_successful_passes_p90,\n",
    "    'Pass Accuracy (%)': rice_pass_accuracy,\n",
    "    'Passes to Final Third P90': rice_final_third_p90,\n",
    "    'Key Passes P90': rice_key_passes_p90,\n",
    "    'Key Passes (%)': rice_key_passes_perct,\n",
    "    'Pressures P90': rice_pressures_p90,\n",
    "    'Successful Tackles P90': rice_tackles_p90,\n",
    "    'Interceptions P90': rice_interceptions_p90,\n",
    "    'Ball Recoveries P90': rice_recoveries_p90,\n",
    "    'Progressive Carries P90': rice_carries_p90,\n",
    "    'Fouls Committed P90': rice_fouls_p90\n",
    "}\n"
   ]
  },
  {
   "cell_type": "code",
   "execution_count": 189,
   "id": "4ca74b3e-be77-4b3b-a08d-8ff4dbf38512",
   "metadata": {},
   "outputs": [],
   "source": [
    "df_p90 = pd.DataFrame([rodri_data_p90, rice_data_p90])\n",
    "df_p90.set_index('Player', inplace=True)\n",
    "df_p90 = df_p90.round(2)"
   ]
  },
  {
   "cell_type": "code",
   "execution_count": 191,
   "id": "13ecd879-87bf-47e7-b87e-37a76e5632e0",
   "metadata": {},
   "outputs": [
    {
     "data": {
      "text/html": [
       "<div>\n",
       "<style scoped>\n",
       "    .dataframe tbody tr th:only-of-type {\n",
       "        vertical-align: middle;\n",
       "    }\n",
       "\n",
       "    .dataframe tbody tr th {\n",
       "        vertical-align: top;\n",
       "    }\n",
       "\n",
       "    .dataframe thead th {\n",
       "        text-align: right;\n",
       "    }\n",
       "</style>\n",
       "<table border=\"1\" class=\"dataframe\">\n",
       "  <thead>\n",
       "    <tr style=\"text-align: right;\">\n",
       "      <th></th>\n",
       "      <th>Shots P90</th>\n",
       "      <th>Progressive Passes P90</th>\n",
       "      <th>Total Passes P90</th>\n",
       "      <th>Successful Passes P90</th>\n",
       "      <th>Pass Accuracy (%)</th>\n",
       "      <th>Passes to Final Third P90</th>\n",
       "      <th>Key Passes P90</th>\n",
       "      <th>Key Passes (%)</th>\n",
       "      <th>Pressures P90</th>\n",
       "      <th>Successful Tackles P90</th>\n",
       "      <th>Interceptions P90</th>\n",
       "      <th>Ball Recoveries P90</th>\n",
       "      <th>Progressive Carries P90</th>\n",
       "      <th>Fouls Committed P90</th>\n",
       "    </tr>\n",
       "    <tr>\n",
       "      <th>Player</th>\n",
       "      <th></th>\n",
       "      <th></th>\n",
       "      <th></th>\n",
       "      <th></th>\n",
       "      <th></th>\n",
       "      <th></th>\n",
       "      <th></th>\n",
       "      <th></th>\n",
       "      <th></th>\n",
       "      <th></th>\n",
       "      <th></th>\n",
       "      <th></th>\n",
       "      <th></th>\n",
       "      <th></th>\n",
       "    </tr>\n",
       "  </thead>\n",
       "  <tbody>\n",
       "    <tr>\n",
       "      <th>Rodri Hernández</th>\n",
       "      <td>0.83</td>\n",
       "      <td>18.00</td>\n",
       "      <td>72.67</td>\n",
       "      <td>68.50</td>\n",
       "      <td>94.27</td>\n",
       "      <td>17.83</td>\n",
       "      <td>1.00</td>\n",
       "      <td>1.38</td>\n",
       "      <td>14.83</td>\n",
       "      <td>1.33</td>\n",
       "      <td>0.50</td>\n",
       "      <td>4.67</td>\n",
       "      <td>4.0</td>\n",
       "      <td>1.33</td>\n",
       "    </tr>\n",
       "    <tr>\n",
       "      <th>Declan Rice</th>\n",
       "      <td>1.29</td>\n",
       "      <td>17.29</td>\n",
       "      <td>76.57</td>\n",
       "      <td>69.71</td>\n",
       "      <td>91.04</td>\n",
       "      <td>19.71</td>\n",
       "      <td>0.43</td>\n",
       "      <td>0.56</td>\n",
       "      <td>11.71</td>\n",
       "      <td>1.29</td>\n",
       "      <td>1.14</td>\n",
       "      <td>5.71</td>\n",
       "      <td>4.0</td>\n",
       "      <td>1.14</td>\n",
       "    </tr>\n",
       "  </tbody>\n",
       "</table>\n",
       "</div>"
      ],
      "text/plain": [
       "                 Shots P90  Progressive Passes P90  Total Passes P90  \\\n",
       "Player                                                                 \n",
       "Rodri Hernández       0.83                   18.00             72.67   \n",
       "Declan Rice           1.29                   17.29             76.57   \n",
       "\n",
       "                 Successful Passes P90  Pass Accuracy (%)  \\\n",
       "Player                                                      \n",
       "Rodri Hernández                  68.50              94.27   \n",
       "Declan Rice                      69.71              91.04   \n",
       "\n",
       "                 Passes to Final Third P90  Key Passes P90  Key Passes (%)  \\\n",
       "Player                                                                       \n",
       "Rodri Hernández                      17.83            1.00            1.38   \n",
       "Declan Rice                          19.71            0.43            0.56   \n",
       "\n",
       "                 Pressures P90  Successful Tackles P90  Interceptions P90  \\\n",
       "Player                                                                      \n",
       "Rodri Hernández          14.83                    1.33               0.50   \n",
       "Declan Rice              11.71                    1.29               1.14   \n",
       "\n",
       "                 Ball Recoveries P90  Progressive Carries P90  \\\n",
       "Player                                                          \n",
       "Rodri Hernández                 4.67                      4.0   \n",
       "Declan Rice                     5.71                      4.0   \n",
       "\n",
       "                 Fouls Committed P90  \n",
       "Player                                \n",
       "Rodri Hernández                 1.33  \n",
       "Declan Rice                     1.14  "
      ]
     },
     "execution_count": 191,
     "metadata": {},
     "output_type": "execute_result"
    }
   ],
   "source": [
    "df_p90.head()"
   ]
  },
  {
   "cell_type": "code",
   "execution_count": 192,
   "id": "8f1e3421-126d-4003-abf6-4d1342b4378f",
   "metadata": {},
   "outputs": [],
   "source": [
    "import matplotlib.pyplot as plt\n",
    "\n",
    "df_offensive_p90 = df_p90[['Passes to Final Third P90', 'Key Passes P90', 'Shots P90']]\n",
    "df_creation_p90 = df_p90[['Total Passes P90', 'Successful Passes P90', 'Progressive Passes P90', 'Progressive Carries P90']]\n",
    "df_defensive_p90 = df_p90[['Pressures P90', 'Successful Tackles P90', 'Interceptions P90', 'Ball Recoveries P90', 'Fouls Committed P90']]\n",
    "df_accuracy = df_p90[['Pass Accuracy (%)', 'Key Passes (%)']]"
   ]
  },
  {
   "cell_type": "code",
   "execution_count": 154,
   "id": "a6d1f6b4-d860-4621-aa58-28d30a6f85ad",
   "metadata": {},
   "outputs": [
    {
     "data": {
      "image/png": "[encoded data removed]",
      "text/plain": [
       "<Figure size 1000x800 with 1 Axes>"
      ]
     },
     "metadata": {},
     "output_type": "display_data"
    }
   ],
   "source": [
    "df_offensive_p90.T.plot(kind='bar', figsize=(10, 8), color=['#ff9896', '#16a085'])\n",
    "\n",
    "plt.title('OFFENSIVE: RODRI vs. RICE (Per 90 Mins)', fontsize=10, fontweight='bold')\n",
    "plt.xticks(rotation=360)\n",
    "plt.legend()\n",
    "plt.grid(True, alpha=0.2)\n",
    "plt.ylabel(\"Value Per 90 Minutes\")\n",
    "plt.show()"
   ]
  },
  {
   "cell_type": "code",
   "execution_count": 157,
   "id": "89d70c56-2e52-4caf-b411-bec480c042ff",
   "metadata": {},
   "outputs": [
    {
     "data": {
      "image/png": "[encoded data removed]",
      "text/plain": [
       "<Figure size 1000x800 with 1 Axes>"
      ]
     },
     "metadata": {},
     "output_type": "display_data"
    }
   ],
   "source": [
    "df_creation_p90.T.plot(kind='bar', figsize=(10, 8), color=['#ff9896', '#16a085'])\n",
    "\n",
    "plt.title('MIDFIELD CONTROL: RODRI vs. RICE (Per 90 Mins)', fontsize=10, fontweight='bold')\n",
    "plt.xticks(rotation=360)\n",
    "plt.legend()\n",
    "plt.grid(True, alpha=0.2)\n",
    "plt.ylabel(\"Value Per 90 Minutes\")\n",
    "plt.show()"
   ]
  },
  {
   "cell_type": "code",
   "execution_count": 159,
   "id": "54549ddd-6e11-4fb0-b697-eda8d25b52a3",
   "metadata": {},
   "outputs": [
    {
     "data": {
      "image/png": "[encoded data removed]",
      "text/plain": [
       "<Figure size 1000x800 with 1 Axes>"
      ]
     },
     "metadata": {},
     "output_type": "display_data"
    }
   ],
   "source": [
    "df_accuracy.T.plot(kind='bar', figsize=(10, 8), color=['#ff9896', '#16a085'])\n",
    "\n",
    "plt.title('PASSES ACCURACY: RODRI vs. RICE', fontsize=10, fontweight='bold')\n",
    "plt.xticks(rotation=360)\n",
    "plt.legend()\n",
    "plt.grid(True, alpha=0.2)\n",
    "plt.show()"
   ]
  },
  {
   "cell_type": "code",
   "execution_count": 160,
   "id": "390aa798-c28b-4edb-b805-0817e228eab9",
   "metadata": {},
   "outputs": [
    {
     "data": {
      "text/html": [
       "<div>\n",
       "<style scoped>\n",
       "    .dataframe tbody tr th:only-of-type {\n",
       "        vertical-align: middle;\n",
       "    }\n",
       "\n",
       "    .dataframe tbody tr th {\n",
       "        vertical-align: top;\n",
       "    }\n",
       "\n",
       "    .dataframe thead th {\n",
       "        text-align: right;\n",
       "    }\n",
       "</style>\n",
       "<table border=\"1\" class=\"dataframe\">\n",
       "  <thead>\n",
       "    <tr style=\"text-align: right;\">\n",
       "      <th></th>\n",
       "      <th>Pass Accuracy (%)</th>\n",
       "      <th>Key Passes (%)</th>\n",
       "    </tr>\n",
       "    <tr>\n",
       "      <th>Player</th>\n",
       "      <th></th>\n",
       "      <th></th>\n",
       "    </tr>\n",
       "  </thead>\n",
       "  <tbody>\n",
       "    <tr>\n",
       "      <th>Rodri Hernández</th>\n",
       "      <td>94.27</td>\n",
       "      <td>1.38</td>\n",
       "    </tr>\n",
       "    <tr>\n",
       "      <th>Declan Rice</th>\n",
       "      <td>91.04</td>\n",
       "      <td>0.56</td>\n",
       "    </tr>\n",
       "  </tbody>\n",
       "</table>\n",
       "</div>"
      ],
      "text/plain": [
       "                 Pass Accuracy (%)  Key Passes (%)\n",
       "Player                                            \n",
       "Rodri Hernández              94.27            1.38\n",
       "Declan Rice                  91.04            0.56"
      ]
     },
     "execution_count": 160,
     "metadata": {},
     "output_type": "execute_result"
    }
   ],
   "source": [
    "df_accuracy.head()"
   ]
  },
  {
   "cell_type": "code",
   "execution_count": 161,
   "id": "7fe3b6df-dbc0-41c0-b252-7853cccd0b84",
   "metadata": {},
   "outputs": [
    {
     "data": {
      "image/png": "[encoded data removed]",
      "text/plain": [
       "<Figure size 1200x1000 with 1 Axes>"
      ]
     },
     "metadata": {},
     "output_type": "display_data"
    }
   ],
   "source": [
    "df_defensive_p90.T.plot(kind='bar', figsize=(12, 10), color=['#ff9896', '#16a085'])\n",
    "\n",
    "plt.title('DEFENSIVE: RODRI vs. RICE (Per 90 Mins)', fontsize=10, fontweight='bold')\n",
    "plt.xticks(rotation=360)\n",
    "plt.legend()\n",
    "plt.grid(True, alpha=0.2)\n",
    "plt.ylabel(\"Value Per 90 Minutes\")\n",
    "plt.show()"
   ]
  },
  {
   "cell_type": "code",
   "execution_count": 165,
   "id": "9a69541f-7ad8-476e-891b-37a71d384323",
   "metadata": {},
   "outputs": [
    {
     "data": {
      "image/png": "[encoded data removed]",
      "text/plain": [
       "<Figure size 1200x800 with 1 Axes>"
      ]
     },
     "metadata": {},
     "output_type": "display_data"
    }
   ],
   "source": [
    "fig, ax = plt.subplots(figsize=(12, 8))\n",
    "\n",
    "differences = []\n",
    "labels_diff = []\n",
    "for metrica in df_p90.columns:\n",
    "    if metrica != ['Pass Accuracy (%)', 'Key Passes(%)']:\n",
    "        rodri_val = rodri_data_p90[metrica]\n",
    "        rice_val = rice_data_p90[metrica]\n",
    "        if rodri_val != 0: \n",
    "            dif_percent = ((rice_val - rodri_val) / rodri_val) * 100\n",
    "            differences.append(dif_percent)\n",
    "            labels_diff.append(metrica.replace(' P90', ''))\n",
    "\n",
    "\n",
    "sorted_indices = np.argsort(differences)\n",
    "sorted_differences = [differences[i] for i in sorted_indices]\n",
    "sorted_labels = [labels_diff[i] for i in sorted_indices]\n",
    "\n",
    "colors_diff = ['red' if x < 0 else 'green' for x in sorted_differences]\n",
    "bars = ax.barh(sorted_labels, sorted_differences, color=colors_diff, alpha=0.7)\n",
    "\n",
    "\n",
    "for bar, valor in zip(bars, sorted_differences):\n",
    "    ax.text(bar.get_width() + (1 if valor >= 0 else -1), \n",
    "            bar.get_y() + bar.get_height()/2,\n",
    "            f'{valor:+.1f}%', \n",
    "            va='center', ha='left' if valor >= 0 else 'right',\n",
    "            fontweight='bold', fontsize=10)\n",
    "\n",
    "ax.axvline(x=0, color='black', linewidth=0.8, linestyle='--')\n",
    "ax.set_xlabel('Percentage Differences', fontsize=12)\n",
    "ax.set_title('COMPARATIVE PERFORMANCE\\n(Positive values = Rice advantage)', \n",
    "             fontsize=14, fontweight='bold', pad=20)\n",
    "ax.grid(True, alpha=0.3, axis='x')\n",
    "\n",
    "plt.tight_layout()\n",
    "plt.show()\n"
   ]
  },
  {
   "cell_type": "code",
   "execution_count": 167,
   "id": "9c126428-57f1-4c2d-898c-238334869330",
   "metadata": {},
   "outputs": [
    {
     "name": "stdout",
     "output_type": "stream",
     "text": [
      "Requirement already satisfied: mplsoccer in c:\\users\\nicol\\anaconda3\\lib\\site-packages (1.5.1)\n",
      "Requirement already satisfied: matplotlib>=3.6 in c:\\users\\nicol\\anaconda3\\lib\\site-packages (from mplsoccer) (3.9.2)\n",
      "Requirement already satisfied: numpy in c:\\users\\nicol\\anaconda3\\lib\\site-packages (from mplsoccer) (1.26.4)\n",
      "Requirement already satisfied: pandas in c:\\users\\nicol\\anaconda3\\lib\\site-packages (from mplsoccer) (2.2.2)\n",
      "Requirement already satisfied: pillow in c:\\users\\nicol\\anaconda3\\lib\\site-packages (from mplsoccer) (10.4.0)\n",
      "Requirement already satisfied: requests in c:\\users\\nicol\\anaconda3\\lib\\site-packages (from mplsoccer) (2.32.3)\n",
      "Requirement already satisfied: scipy in c:\\users\\nicol\\anaconda3\\lib\\site-packages (from mplsoccer) (1.13.1)\n",
      "Requirement already satisfied: seaborn in c:\\users\\nicol\\anaconda3\\lib\\site-packages (from mplsoccer) (0.13.2)\n",
      "Requirement already satisfied: contourpy>=1.0.1 in c:\\users\\nicol\\anaconda3\\lib\\site-packages (from matplotlib>=3.6->mplsoccer) (1.2.0)\n",
      "Requirement already satisfied: cycler>=0.10 in c:\\users\\nicol\\anaconda3\\lib\\site-packages (from matplotlib>=3.6->mplsoccer) (0.11.0)\n",
      "Requirement already satisfied: fonttools>=4.22.0 in c:\\users\\nicol\\anaconda3\\lib\\site-packages (from matplotlib>=3.6->mplsoccer) (4.51.0)\n",
      "Requirement already satisfied: kiwisolver>=1.3.1 in c:\\users\\nicol\\anaconda3\\lib\\site-packages (from matplotlib>=3.6->mplsoccer) (1.4.4)\n",
      "Requirement already satisfied: packaging>=20.0 in c:\\users\\nicol\\anaconda3\\lib\\site-packages (from matplotlib>=3.6->mplsoccer) (24.1)\n",
      "Requirement already satisfied: pyparsing>=2.3.1 in c:\\users\\nicol\\anaconda3\\lib\\site-packages (from matplotlib>=3.6->mplsoccer) (3.1.2)\n",
      "Requirement already satisfied: python-dateutil>=2.7 in c:\\users\\nicol\\anaconda3\\lib\\site-packages (from matplotlib>=3.6->mplsoccer) (2.9.0.post0)\n",
      "Requirement already satisfied: pytz>=2020.1 in c:\\users\\nicol\\anaconda3\\lib\\site-packages (from pandas->mplsoccer) (2024.1)\n",
      "Requirement already satisfied: tzdata>=2022.7 in c:\\users\\nicol\\anaconda3\\lib\\site-packages (from pandas->mplsoccer) (2023.3)\n",
      "Requirement already satisfied: charset-normalizer<4,>=2 in c:\\users\\nicol\\anaconda3\\lib\\site-packages (from requests->mplsoccer) (3.3.2)\n",
      "Requirement already satisfied: idna<4,>=2.5 in c:\\users\\nicol\\anaconda3\\lib\\site-packages (from requests->mplsoccer) (3.7)\n",
      "Requirement already satisfied: urllib3<3,>=1.21.1 in c:\\users\\nicol\\anaconda3\\lib\\site-packages (from requests->mplsoccer) (2.4.0)\n",
      "Requirement already satisfied: certifi>=2017.4.17 in c:\\users\\nicol\\anaconda3\\lib\\site-packages (from requests->mplsoccer) (2025.4.26)\n",
      "Requirement already satisfied: six>=1.5 in c:\\users\\nicol\\anaconda3\\lib\\site-packages (from python-dateutil>=2.7->matplotlib>=3.6->mplsoccer) (1.16.0)\n"
     ]
    }
   ],
   "source": [
    "!pip install mplsoccer"
   ]
  },
  {
   "cell_type": "code",
   "execution_count": 169,
   "id": "08d448bb-53d1-492c-8fb0-2f35c89191ec",
   "metadata": {},
   "outputs": [],
   "source": [
    "import seaborn as sns  \n",
    "from mplsoccer import Pitch"
   ]
  },
  {
   "cell_type": "code",
   "execution_count": 171,
   "id": "18af2c9b-949a-4944-aff9-850f0e8691a4",
   "metadata": {},
   "outputs": [
    {
     "data": {
      "image/png": "[encoded data removed]",
      "text/plain": [
       "<Figure size 800x600 with 1 Axes>"
      ]
     },
     "metadata": {},
     "output_type": "display_data"
    }
   ],
   "source": [
    "# RODRI HEATMAP LOCATION\n",
    "\n",
    "rodri_locations = rodri_events['location'].dropna().apply(lambda x: x if isinstance(x, list) else None).dropna()\n",
    "x = [loc[0] for loc in rodri_locations]\n",
    "y = [loc[1] for loc in rodri_locations]\n",
    "\n",
    "pitch = Pitch(pitch_type='statsbomb', line_zorder=2, pitch_color='white', line_color='black')\n",
    "fig, ax = pitch.draw(figsize=(8, 6))\n",
    "\n",
    "sns.kdeplot(\n",
    "    x=x, y=y,\n",
    "    fill=True,\n",
    "    levels=50, \n",
    "    alpha=0.7,\n",
    "    cmap=\"Reds\",\n",
    "    ax=ax\n",
    ")\n",
    "\n",
    "plt.title(\"Rodri Heatmap Position\")\n",
    "plt.show()\n"
   ]
  },
  {
   "cell_type": "code",
   "execution_count": 172,
   "id": "91076baf-1550-4e5f-9b0e-2b14fbbe3c69",
   "metadata": {},
   "outputs": [
    {
     "data": {
      "image/png": "[encoded data removed]",
      "text/plain": [
       "<Figure size 800x600 with 1 Axes>"
      ]
     },
     "metadata": {},
     "output_type": "display_data"
    }
   ],
   "source": [
    "# RICE HEATMAP LOCATION\n",
    "\n",
    "rice_locations = rice_events['location'].dropna().apply(lambda x: x if isinstance(x, list) else None).dropna()\n",
    "x = [loc[0] for loc in rice_locations]\n",
    "y = [loc[1] for loc in rice_locations]\n",
    "\n",
    "pitch = Pitch(pitch_type='statsbomb', line_zorder=2, pitch_color='white', line_color='black')\n",
    "fig, ax = pitch.draw(figsize=(8, 6))\n",
    "\n",
    "sns.kdeplot(\n",
    "    x=x, y=y,\n",
    "    fill=True,\n",
    "    levels=50,\n",
    "    alpha=0.7,\n",
    "    cmap=\"Reds\",\n",
    "    ax=ax\n",
    ")\n",
    "\n",
    "plt.title(\"Rice Heatmap Position\")\n",
    "plt.show()"
   ]
  },
  {
   "cell_type": "raw",
   "id": "b7f73f58-3314-40a9-95df-d9f8285e1a47",
   "metadata": {},
   "source": [
    "Analysis and Comparison: Rodri Hernández vs. Declan Rice (Euro 2024) \n",
    "\n",
    "I carried out a comparative analysis between Rodri Hernández and Declan Rice, two midfielders who played a central role for their national teams and led Spain and England to the Euro 2024 final. All performance metrics were standardized to per 90 minutes (P90), allowing for a fair comparison between both players. \n",
    "\n",
    "The analysis shows how, despite occupying similar tactical roles, their styles are radically different. This contrast is reflected both in the metrics and in the bar charts and heatmaps of their actions. \n",
    "\n",
    "Rodri Hernández \n",
    "\n",
    "Rodri stands out for the security of his play, the precision, and the quality of his passing distribution. \n",
    "\n",
    "His heatmap shows a high concentration of actions in central areas of the field, validating his role as the pivot of circulation and primary passing option for the defenders. His superiority in passing accuracy (94.27% vs 91.04%), progressive passes (18.0 P90), and key passes (1.0 P90) shows how central he is in controlling his team’s gameplay and ensuring possession retention. Although his total passing volume is lower, his function is more selective: he prioritizes secure possession and maintains structural integrity over constantly seeking vertical progression. Defensively, while his recovery metrics are not as high as Rice’s, he still plays an important role in risk prevention through intelligent positioning.  \n",
    "\n",
    "Rodri is a positional midfielder who adds value by creating associative play through the security and quality of his distribution. \n",
    "\n",
    "Declan Rice \n",
    "\n",
    "By contrast, Rice stands out for his dynamism, ball recovery, and verticality (evidenced by his superior metrics in recoveries and interceptions). \n",
    "\n",
    "His heatmap is broader and more dispersed, extending into wide areas and advanced zones, which indicates a role  that requires covering a lot of field  and contributing to both phases of the game. He shows higher values in defensive metrics, particularly recoveries and interceptions, confirming his profile as a key disruptor breaking up the opposition's buildup. Offensively, he records a higher total passing volume (76.57 P90) and particularly excels in passes into the final third (19.71 P90), showing a clear intent to accelerate the game and connect directly with attackers. The data shows that Rice is heavily involved in regaining possession and initiating fast transitions.\n",
    "\n",
    "Rice is a dynamic and vertical midfielder, with greater intensity, defensive involvement, and willingness to take risks through quick transitions. \n",
    "\n",
    "Conclusion \n",
    "\n",
    "This analysis demonstrates how two players in the same position can be equally vital to their teams’ functioning with markedly different styles. \n",
    "\n",
    "Each is key to enabling his team’s game model. Rodri plays a leading role in ensuring ball security and control, focused on maintaining positional structure and patient circulation. In contrast, Rice takes on the main role in active disruption and rapid transitions, prioritizing intensity and verticality. "
   ]
  }
 ],
 "metadata": {
  "kernelspec": {
   "display_name": "Python [conda env:base] *",
   "language": "python",
   "name": "conda-base-py"
  },
  "language_info": {
   "codemirror_mode": {
    "name": "ipython",
    "version": 3
   },
   "file_extension": ".py",
   "mimetype": "text/x-python",
   "name": "python",
   "nbconvert_exporter": "python",
   "pygments_lexer": "ipython3",
   "version": "3.12.7"
  }
 },
 "nbformat": 4,
 "nbformat_minor": 5
}
